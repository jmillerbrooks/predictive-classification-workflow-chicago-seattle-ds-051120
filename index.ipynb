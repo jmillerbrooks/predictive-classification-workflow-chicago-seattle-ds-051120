{
 "cells": [
  {
   "cell_type": "markdown",
   "metadata": {},
   "source": [
    "# Modeling Walkthrough"
   ]
  },
  {
   "cell_type": "code",
   "execution_count": 1,
   "metadata": {},
   "outputs": [],
   "source": [
    "import pandas as pd\n",
    "import numpy as np\n",
    "\n",
    "import matplotlib.pyplot as plt\n",
    "import seaborn as sns\n",
    "\n",
    "from sklearn.preprocessing import OneHotEncoder, StandardScaler\n",
    "\n",
    "from sklearn.impute import MissingIndicator, SimpleImputer\n",
    "\n",
    "from sklearn.dummy import DummyClassifier\n",
    "from sklearn.linear_model import LogisticRegression\n",
    "\n",
    "from sklearn.model_selection import train_test_split, cross_val_score\n",
    "from sklearn.feature_selection import SelectFromModel\n",
    "\n",
    "# plot_confusion_matrix is a handy visual tool, added in the latest version of scikit-learn\n",
    "# if you are running an older version, comment out this line and just use confusion_matrix\n",
    "from sklearn.metrics import plot_confusion_matrix\n",
    "from sklearn.metrics import confusion_matrix"
   ]
  },
  {
   "cell_type": "markdown",
   "metadata": {},
   "source": [
    "## Modeling Steps\n",
    "\n",
    "1. Build a model based on the [Titanic dataset](https://www.kaggle.com/c/titanic/data) that predicts whether a given person survived or not\n",
    "2. Evaluate the performance of the model\n",
    "3. Make changes in an attempt to improve the model\n",
    "4. Demonstrate whether an improvement was made"
   ]
  },
  {
   "cell_type": "markdown",
   "metadata": {},
   "source": [
    "## The Data\n",
    "\n",
    "This dataset has the following columns:\n",
    "\n",
    "| Variable | Definition | Key |\n",
    "| -------- | ---------- | --- |\n",
    "| survival | Survival | 0 = No, 1 = Yes |\n",
    "| pclass | Ticket class | 1 = 1st, 2 = 2nd, 3 = 3rd |\n",
    "| sex | Sex | |\n",
    "| Age | Age in years | |\n",
    "| sibsp | # of siblings / spouses aboard the Titanic | |\n",
    "| parch | # of parents / children aboard the Titanic | |\n",
    "| ticket | Ticket number | |\n",
    "| fare | Passenger fare | |\n",
    "| cabin | Cabin number | |\n",
    "| embarked | Port of Embarkation | C = Cherbourg, Q = Queenstown, S = Southampton |"
   ]
  },
  {
   "cell_type": "markdown",
   "metadata": {},
   "source": [
    "## Initial Data Understanding and Preparation\n",
    "\n",
    "Open up the file, get everything into `X` features and `y` target variables, divided into train and test"
   ]
  },
  {
   "cell_type": "code",
   "execution_count": 2,
   "metadata": {},
   "outputs": [],
   "source": [
    "df = pd.read_csv(\"titanic.csv\")"
   ]
  },
  {
   "cell_type": "code",
   "execution_count": 3,
   "metadata": {},
   "outputs": [
    {
     "data": {
      "text/html": [
       "<div>\n",
       "<style scoped>\n",
       "    .dataframe tbody tr th:only-of-type {\n",
       "        vertical-align: middle;\n",
       "    }\n",
       "\n",
       "    .dataframe tbody tr th {\n",
       "        vertical-align: top;\n",
       "    }\n",
       "\n",
       "    .dataframe thead th {\n",
       "        text-align: right;\n",
       "    }\n",
       "</style>\n",
       "<table border=\"1\" class=\"dataframe\">\n",
       "  <thead>\n",
       "    <tr style=\"text-align: right;\">\n",
       "      <th></th>\n",
       "      <th>PassengerId</th>\n",
       "      <th>Survived</th>\n",
       "      <th>Pclass</th>\n",
       "      <th>Name</th>\n",
       "      <th>Sex</th>\n",
       "      <th>Age</th>\n",
       "      <th>SibSp</th>\n",
       "      <th>Parch</th>\n",
       "      <th>Ticket</th>\n",
       "      <th>Fare</th>\n",
       "      <th>Cabin</th>\n",
       "      <th>Embarked</th>\n",
       "    </tr>\n",
       "  </thead>\n",
       "  <tbody>\n",
       "    <tr>\n",
       "      <th>0</th>\n",
       "      <td>1</td>\n",
       "      <td>0</td>\n",
       "      <td>3</td>\n",
       "      <td>Braund, Mr. Owen Harris</td>\n",
       "      <td>male</td>\n",
       "      <td>22.0</td>\n",
       "      <td>1</td>\n",
       "      <td>0</td>\n",
       "      <td>A/5 21171</td>\n",
       "      <td>7.2500</td>\n",
       "      <td>NaN</td>\n",
       "      <td>S</td>\n",
       "    </tr>\n",
       "    <tr>\n",
       "      <th>1</th>\n",
       "      <td>2</td>\n",
       "      <td>1</td>\n",
       "      <td>1</td>\n",
       "      <td>Cumings, Mrs. John Bradley (Florence Briggs Th...</td>\n",
       "      <td>female</td>\n",
       "      <td>38.0</td>\n",
       "      <td>1</td>\n",
       "      <td>0</td>\n",
       "      <td>PC 17599</td>\n",
       "      <td>71.2833</td>\n",
       "      <td>C85</td>\n",
       "      <td>C</td>\n",
       "    </tr>\n",
       "    <tr>\n",
       "      <th>2</th>\n",
       "      <td>3</td>\n",
       "      <td>1</td>\n",
       "      <td>3</td>\n",
       "      <td>Heikkinen, Miss. Laina</td>\n",
       "      <td>female</td>\n",
       "      <td>26.0</td>\n",
       "      <td>0</td>\n",
       "      <td>0</td>\n",
       "      <td>STON/O2. 3101282</td>\n",
       "      <td>7.9250</td>\n",
       "      <td>NaN</td>\n",
       "      <td>S</td>\n",
       "    </tr>\n",
       "    <tr>\n",
       "      <th>3</th>\n",
       "      <td>4</td>\n",
       "      <td>1</td>\n",
       "      <td>1</td>\n",
       "      <td>Futrelle, Mrs. Jacques Heath (Lily May Peel)</td>\n",
       "      <td>female</td>\n",
       "      <td>35.0</td>\n",
       "      <td>1</td>\n",
       "      <td>0</td>\n",
       "      <td>113803</td>\n",
       "      <td>53.1000</td>\n",
       "      <td>C123</td>\n",
       "      <td>S</td>\n",
       "    </tr>\n",
       "    <tr>\n",
       "      <th>4</th>\n",
       "      <td>5</td>\n",
       "      <td>0</td>\n",
       "      <td>3</td>\n",
       "      <td>Allen, Mr. William Henry</td>\n",
       "      <td>male</td>\n",
       "      <td>35.0</td>\n",
       "      <td>0</td>\n",
       "      <td>0</td>\n",
       "      <td>373450</td>\n",
       "      <td>8.0500</td>\n",
       "      <td>NaN</td>\n",
       "      <td>S</td>\n",
       "    </tr>\n",
       "  </tbody>\n",
       "</table>\n",
       "</div>"
      ],
      "text/plain": [
       "   PassengerId  Survived  Pclass  \\\n",
       "0            1         0       3   \n",
       "1            2         1       1   \n",
       "2            3         1       3   \n",
       "3            4         1       1   \n",
       "4            5         0       3   \n",
       "\n",
       "                                                Name     Sex   Age  SibSp  \\\n",
       "0                            Braund, Mr. Owen Harris    male  22.0      1   \n",
       "1  Cumings, Mrs. John Bradley (Florence Briggs Th...  female  38.0      1   \n",
       "2                             Heikkinen, Miss. Laina  female  26.0      0   \n",
       "3       Futrelle, Mrs. Jacques Heath (Lily May Peel)  female  35.0      1   \n",
       "4                           Allen, Mr. William Henry    male  35.0      0   \n",
       "\n",
       "   Parch            Ticket     Fare Cabin Embarked  \n",
       "0      0         A/5 21171   7.2500   NaN        S  \n",
       "1      0          PC 17599  71.2833   C85        C  \n",
       "2      0  STON/O2. 3101282   7.9250   NaN        S  \n",
       "3      0            113803  53.1000  C123        S  \n",
       "4      0            373450   8.0500   NaN        S  "
      ]
     },
     "execution_count": 3,
     "metadata": {},
     "output_type": "execute_result"
    }
   ],
   "source": [
    "df.head()"
   ]
  },
  {
   "cell_type": "code",
   "execution_count": 4,
   "metadata": {},
   "outputs": [
    {
     "data": {
      "text/html": [
       "<div>\n",
       "<style scoped>\n",
       "    .dataframe tbody tr th:only-of-type {\n",
       "        vertical-align: middle;\n",
       "    }\n",
       "\n",
       "    .dataframe tbody tr th {\n",
       "        vertical-align: top;\n",
       "    }\n",
       "\n",
       "    .dataframe thead th {\n",
       "        text-align: right;\n",
       "    }\n",
       "</style>\n",
       "<table border=\"1\" class=\"dataframe\">\n",
       "  <thead>\n",
       "    <tr style=\"text-align: right;\">\n",
       "      <th></th>\n",
       "      <th>PassengerId</th>\n",
       "      <th>Survived</th>\n",
       "      <th>Pclass</th>\n",
       "      <th>Age</th>\n",
       "      <th>SibSp</th>\n",
       "      <th>Parch</th>\n",
       "      <th>Fare</th>\n",
       "    </tr>\n",
       "  </thead>\n",
       "  <tbody>\n",
       "    <tr>\n",
       "      <th>count</th>\n",
       "      <td>891.000000</td>\n",
       "      <td>891.000000</td>\n",
       "      <td>891.000000</td>\n",
       "      <td>714.000000</td>\n",
       "      <td>891.000000</td>\n",
       "      <td>891.000000</td>\n",
       "      <td>891.000000</td>\n",
       "    </tr>\n",
       "    <tr>\n",
       "      <th>mean</th>\n",
       "      <td>446.000000</td>\n",
       "      <td>0.383838</td>\n",
       "      <td>2.308642</td>\n",
       "      <td>29.699118</td>\n",
       "      <td>0.523008</td>\n",
       "      <td>0.381594</td>\n",
       "      <td>32.204208</td>\n",
       "    </tr>\n",
       "    <tr>\n",
       "      <th>std</th>\n",
       "      <td>257.353842</td>\n",
       "      <td>0.486592</td>\n",
       "      <td>0.836071</td>\n",
       "      <td>14.526497</td>\n",
       "      <td>1.102743</td>\n",
       "      <td>0.806057</td>\n",
       "      <td>49.693429</td>\n",
       "    </tr>\n",
       "    <tr>\n",
       "      <th>min</th>\n",
       "      <td>1.000000</td>\n",
       "      <td>0.000000</td>\n",
       "      <td>1.000000</td>\n",
       "      <td>0.420000</td>\n",
       "      <td>0.000000</td>\n",
       "      <td>0.000000</td>\n",
       "      <td>0.000000</td>\n",
       "    </tr>\n",
       "    <tr>\n",
       "      <th>25%</th>\n",
       "      <td>223.500000</td>\n",
       "      <td>0.000000</td>\n",
       "      <td>2.000000</td>\n",
       "      <td>20.125000</td>\n",
       "      <td>0.000000</td>\n",
       "      <td>0.000000</td>\n",
       "      <td>7.910400</td>\n",
       "    </tr>\n",
       "    <tr>\n",
       "      <th>50%</th>\n",
       "      <td>446.000000</td>\n",
       "      <td>0.000000</td>\n",
       "      <td>3.000000</td>\n",
       "      <td>28.000000</td>\n",
       "      <td>0.000000</td>\n",
       "      <td>0.000000</td>\n",
       "      <td>14.454200</td>\n",
       "    </tr>\n",
       "    <tr>\n",
       "      <th>75%</th>\n",
       "      <td>668.500000</td>\n",
       "      <td>1.000000</td>\n",
       "      <td>3.000000</td>\n",
       "      <td>38.000000</td>\n",
       "      <td>1.000000</td>\n",
       "      <td>0.000000</td>\n",
       "      <td>31.000000</td>\n",
       "    </tr>\n",
       "    <tr>\n",
       "      <th>max</th>\n",
       "      <td>891.000000</td>\n",
       "      <td>1.000000</td>\n",
       "      <td>3.000000</td>\n",
       "      <td>80.000000</td>\n",
       "      <td>8.000000</td>\n",
       "      <td>6.000000</td>\n",
       "      <td>512.329200</td>\n",
       "    </tr>\n",
       "  </tbody>\n",
       "</table>\n",
       "</div>"
      ],
      "text/plain": [
       "       PassengerId    Survived      Pclass         Age       SibSp  \\\n",
       "count   891.000000  891.000000  891.000000  714.000000  891.000000   \n",
       "mean    446.000000    0.383838    2.308642   29.699118    0.523008   \n",
       "std     257.353842    0.486592    0.836071   14.526497    1.102743   \n",
       "min       1.000000    0.000000    1.000000    0.420000    0.000000   \n",
       "25%     223.500000    0.000000    2.000000   20.125000    0.000000   \n",
       "50%     446.000000    0.000000    3.000000   28.000000    0.000000   \n",
       "75%     668.500000    1.000000    3.000000   38.000000    1.000000   \n",
       "max     891.000000    1.000000    3.000000   80.000000    8.000000   \n",
       "\n",
       "            Parch        Fare  \n",
       "count  891.000000  891.000000  \n",
       "mean     0.381594   32.204208  \n",
       "std      0.806057   49.693429  \n",
       "min      0.000000    0.000000  \n",
       "25%      0.000000    7.910400  \n",
       "50%      0.000000   14.454200  \n",
       "75%      0.000000   31.000000  \n",
       "max      6.000000  512.329200  "
      ]
     },
     "execution_count": 4,
     "metadata": {},
     "output_type": "execute_result"
    }
   ],
   "source": [
    "df.describe()"
   ]
  },
  {
   "cell_type": "code",
   "execution_count": 11,
   "metadata": {},
   "outputs": [
    {
     "data": {
      "text/plain": [
       "0    549\n",
       "1    342\n",
       "Name: Survived, dtype: int64"
      ]
     },
     "execution_count": 11,
     "metadata": {},
     "output_type": "execute_result"
    }
   ],
   "source": [
    "df[\"Survived\"].value_counts()"
   ]
  },
  {
   "cell_type": "markdown",
   "metadata": {},
   "source": [
    "Age data is missing for about 1 in 9 rows in our dataset.  For now, let's just exclude it, plus the non-numeric columns, and `PassengerId` which doesn't seem like a real feature, but rather just an artifact of the dataset."
   ]
  },
  {
   "cell_type": "code",
   "execution_count": 5,
   "metadata": {},
   "outputs": [],
   "source": [
    "df = df.drop(\"PassengerId\", axis=1)"
   ]
  },
  {
   "cell_type": "code",
   "execution_count": 6,
   "metadata": {},
   "outputs": [],
   "source": [
    "# Pclass are numbers but it's not clear that the difference between 1st and 2nd is the\n",
    "# same as the difference between 2nd and 3rd\n",
    "numeric_columns = [\"Survived\", \"SibSp\", \"Parch\", \"Fare\"]"
   ]
  },
  {
   "cell_type": "code",
   "execution_count": 7,
   "metadata": {},
   "outputs": [
    {
     "data": {
      "image/png": "[encoded data removed]",
      "text/plain": [
       "<Figure size 720x720 with 20 Axes>"
      ]
     },
     "metadata": {
      "needs_background": "light"
     },
     "output_type": "display_data"
    }
   ],
   "source": [
    "sns.pairplot(df[numeric_columns]);"
   ]
  },
  {
   "cell_type": "code",
   "execution_count": 8,
   "metadata": {},
   "outputs": [],
   "source": [
    "numeric_df = df[numeric_columns]\n",
    "X = numeric_df.drop(\"Survived\", axis=1)\n",
    "y = numeric_df[\"Survived\"]\n",
    "X_train, X_test, y_train, y_test = train_test_split(X, y, random_state=2020)"
   ]
  },
  {
   "cell_type": "markdown",
   "metadata": {},
   "source": [
    "## Modeling\n",
    "\n",
    "Let's start with a completely \"dummy\" model, that will always choose the majority class."
   ]
  },
  {
   "cell_type": "code",
   "execution_count": 12,
   "metadata": {},
   "outputs": [],
   "source": [
    "dummy_model = DummyClassifier(strategy=\"most_frequent\")"
   ]
  },
  {
   "cell_type": "markdown",
   "metadata": {},
   "source": [
    "Fit the model on our data"
   ]
  },
  {
   "cell_type": "code",
   "execution_count": 13,
   "metadata": {},
   "outputs": [
    {
     "data": {
      "text/plain": [
       "DummyClassifier(constant=None, random_state=None, strategy='most_frequent')"
      ]
     },
     "execution_count": 13,
     "metadata": {},
     "output_type": "execute_result"
    }
   ],
   "source": [
    "dummy_model.fit(X_train, y_train)"
   ]
  },
  {
   "cell_type": "markdown",
   "metadata": {},
   "source": [
    "We should expect all predictions to be the same"
   ]
  },
  {
   "cell_type": "code",
   "execution_count": 14,
   "metadata": {},
   "outputs": [
    {
     "data": {
      "text/plain": [
       "array([0, 0, 0, 0, 0, 0, 0, 0, 0, 0, 0, 0, 0, 0, 0, 0, 0, 0, 0, 0, 0, 0,\n",
       "       0, 0, 0, 0, 0, 0, 0, 0, 0, 0, 0, 0, 0, 0, 0, 0, 0, 0, 0, 0, 0, 0,\n",
       "       0, 0, 0, 0, 0, 0])"
      ]
     },
     "execution_count": 14,
     "metadata": {},
     "output_type": "execute_result"
    }
   ],
   "source": [
    "# just grabbing the first 50 to save space\n",
    "dummy_model.predict(X_train)[:50]"
   ]
  },
  {
   "cell_type": "markdown",
   "metadata": {},
   "source": [
    "## Model Evaluation"
   ]
  },
  {
   "cell_type": "code",
   "execution_count": 15,
   "metadata": {},
   "outputs": [
    {
     "data": {
      "text/plain": [
       "array([0.62331839, 0.62331839, 0.62612613])"
      ]
     },
     "execution_count": 15,
     "metadata": {},
     "output_type": "execute_result"
    }
   ],
   "source": [
    "cross_val_score(dummy_model, X_train, y_train, cv=3)"
   ]
  },
  {
   "cell_type": "markdown",
   "metadata": {},
   "source": [
    "So, the mean accuracy is a little over 62% if we always guess the majority class"
   ]
  },
  {
   "cell_type": "code",
   "execution_count": 17,
   "metadata": {},
   "outputs": [
    {
     "data": {
      "image/png": "[encoded data removed]",
      "text/plain": [
       "<Figure size 432x288 with 2 Axes>"
      ]
     },
     "metadata": {
      "needs_background": "light"
     },
     "output_type": "display_data"
    }
   ],
   "source": [
    "fig, ax = plt.subplots()\n",
    "\n",
    "fig.suptitle(\"Dummy Model\")\n",
    "\n",
    "plot_confusion_matrix(dummy_model, X_train, y_train, ax=ax, cmap=\"plasma\");"
   ]
  },
  {
   "cell_type": "code",
   "execution_count": 16,
   "metadata": {},
   "outputs": [
    {
     "data": {
      "text/plain": [
       "array([[417,   0],\n",
       "       [251,   0]])"
      ]
     },
     "execution_count": 16,
     "metadata": {},
     "output_type": "execute_result"
    }
   ],
   "source": [
    "# just the numbers (this should work even with older scikit-learn)\n",
    "confusion_matrix(y_train, dummy_model.predict(X_train))"
   ]
  },
  {
   "cell_type": "markdown",
   "metadata": {},
   "source": [
    "A pretty lopsided confusion matrix!"
   ]
  },
  {
   "cell_type": "markdown",
   "metadata": {},
   "source": [
    "## Modeling, Again\n",
    "\n",
    "Let's use a logistic regression and compare its performance"
   ]
  },
  {
   "cell_type": "code",
   "execution_count": 18,
   "metadata": {},
   "outputs": [],
   "source": [
    "simple_logreg_model = LogisticRegression(random_state=2020)"
   ]
  },
  {
   "cell_type": "code",
   "execution_count": 19,
   "metadata": {},
   "outputs": [
    {
     "data": {
      "text/plain": [
       "LogisticRegression(C=1.0, class_weight=None, dual=False, fit_intercept=True,\n",
       "                   intercept_scaling=1, l1_ratio=None, max_iter=100,\n",
       "                   multi_class='auto', n_jobs=None, penalty='l2',\n",
       "                   random_state=2020, solver='lbfgs', tol=0.0001, verbose=0,\n",
       "                   warm_start=False)"
      ]
     },
     "execution_count": 19,
     "metadata": {},
     "output_type": "execute_result"
    }
   ],
   "source": [
    "simple_logreg_model.fit(X_train, y_train)"
   ]
  },
  {
   "cell_type": "markdown",
   "metadata": {},
   "source": [
    "Look at the predictions"
   ]
  },
  {
   "cell_type": "code",
   "execution_count": 20,
   "metadata": {},
   "outputs": [
    {
     "data": {
      "text/plain": [
       "array([0, 0, 0, 0, 0, 0, 0, 0, 0, 1, 0, 0, 0, 0, 0, 0, 0, 0, 0, 0, 0, 0,\n",
       "       0, 0, 0, 1, 1, 0, 0, 0, 0, 0, 0, 0, 0, 0, 1, 0, 0, 0, 0, 0, 0, 0,\n",
       "       0, 0, 0, 0, 0, 0])"
      ]
     },
     "execution_count": 20,
     "metadata": {},
     "output_type": "execute_result"
    }
   ],
   "source": [
    "simple_logreg_model.predict(X_train)[:50]"
   ]
  },
  {
   "cell_type": "markdown",
   "metadata": {},
   "source": [
    "Mixture of 1s and 0s this time"
   ]
  },
  {
   "cell_type": "markdown",
   "metadata": {},
   "source": [
    "## Model Evaluation, Again"
   ]
  },
  {
   "cell_type": "code",
   "execution_count": 21,
   "metadata": {},
   "outputs": [
    {
     "data": {
      "text/plain": [
       "array([0.68161435, 0.69955157, 0.67567568])"
      ]
     },
     "execution_count": 21,
     "metadata": {},
     "output_type": "execute_result"
    }
   ],
   "source": [
    "cross_val_score(simple_logreg_model, X_train, y_train, cv=3)"
   ]
  },
  {
   "cell_type": "markdown",
   "metadata": {},
   "source": [
    "So the mean accuracy is closer to 70% if the model is actually taking in information from the features instead of always guessing the majority class"
   ]
  },
  {
   "cell_type": "code",
   "execution_count": 22,
   "metadata": {},
   "outputs": [
    {
     "data": {
      "image/png": "[encoded data removed]",
      "text/plain": [
       "<Figure size 432x288 with 2 Axes>"
      ]
     },
     "metadata": {
      "needs_background": "light"
     },
     "output_type": "display_data"
    }
   ],
   "source": [
    "fig, ax = plt.subplots()\n",
    "\n",
    "fig.suptitle(\"Logistic Regression with Numeric Features Only\")\n",
    "\n",
    "plot_confusion_matrix(simple_logreg_model, X_train, y_train, ax=ax, cmap=\"plasma\");"
   ]
  },
  {
   "cell_type": "code",
   "execution_count": 23,
   "metadata": {},
   "outputs": [
    {
     "data": {
      "text/plain": [
       "array([[390,  27],\n",
       "       [180,  71]])"
      ]
     },
     "execution_count": 23,
     "metadata": {},
     "output_type": "execute_result"
    }
   ],
   "source": [
    "confusion_matrix(y_train, simple_logreg_model.predict(X_train))"
   ]
  },
  {
   "cell_type": "markdown",
   "metadata": {},
   "source": [
    "So, in general we are not labeling many of the \"not survived\" passengers as \"survived\", but for \"survived\" passengers we're getting it right only about half of the time"
   ]
  },
  {
   "cell_type": "markdown",
   "metadata": {},
   "source": [
    "## Data Preparation, Again\n",
    "\n",
    "Maybe there is some useful information in the features we are not using yet.  Let's go wild and add all of them!\n",
    "\n",
    "Note: you can and should add features incrementally in a \"real\" modeling context.  The engineering effort of encoding the variables can be non-trivial!  But here let's assume that it's not too much work to encode all of them.\n",
    "\n",
    "Start with a new train-test split that contains all of the features"
   ]
  },
  {
   "cell_type": "code",
   "execution_count": 24,
   "metadata": {},
   "outputs": [],
   "source": [
    "X = df.drop(\"Survived\", axis=1)\n",
    "y = df[\"Survived\"]\n",
    "X_train, X_test, y_train, y_test = train_test_split(X, y, random_state=2020)"
   ]
  },
  {
   "cell_type": "code",
   "execution_count": 25,
   "metadata": {},
   "outputs": [
    {
     "data": {
      "text/plain": [
       "Index(['Pclass', 'Name', 'Sex', 'Age', 'SibSp', 'Parch', 'Ticket', 'Fare',\n",
       "       'Cabin', 'Embarked'],\n",
       "      dtype='object')"
      ]
     },
     "execution_count": 25,
     "metadata": {},
     "output_type": "execute_result"
    }
   ],
   "source": [
    "X_train.columns"
   ]
  },
  {
   "cell_type": "code",
   "execution_count": 26,
   "metadata": {},
   "outputs": [
    {
     "data": {
      "text/plain": [
       "Pclass        0\n",
       "Name          0\n",
       "Sex           0\n",
       "Age         123\n",
       "SibSp         0\n",
       "Parch         0\n",
       "Ticket        0\n",
       "Fare          0\n",
       "Cabin       516\n",
       "Embarked      2\n",
       "dtype: int64"
      ]
     },
     "execution_count": 26,
     "metadata": {},
     "output_type": "execute_result"
    }
   ],
   "source": [
    "X_train.isna().sum()"
   ]
  },
  {
   "cell_type": "markdown",
   "metadata": {},
   "source": [
    "### Handling Missing Values\n",
    "\n",
    "Let's be extra cautious and make a separate column to indicate whether there originally was a missing value\n",
    "\n",
    "In our training data there are only missing values for a couple of the columns, but we can't be sure about where the test set will be missing data"
   ]
  },
  {
   "cell_type": "code",
   "execution_count": 27,
   "metadata": {},
   "outputs": [
    {
     "data": {
      "text/plain": [
       "MissingIndicator(error_on_new=True, features='all', missing_values=nan,\n",
       "                 sparse='auto')"
      ]
     },
     "execution_count": 27,
     "metadata": {},
     "output_type": "execute_result"
    }
   ],
   "source": [
    "indicator = MissingIndicator(features=\"all\")\n",
    "indicator.fit(X_train)"
   ]
  },
  {
   "cell_type": "code",
   "execution_count": 28,
   "metadata": {},
   "outputs": [],
   "source": [
    "def add_missing_indicator_columns(X, indicator):\n",
    "    \"\"\"\n",
    "    Helper function for transforming features\n",
    "    \n",
    "    For every feature in X, create another feature indicating whether that feature\n",
    "    is missing.  This doubles the number of columns in X.\n",
    "    \"\"\"\n",
    "    \n",
    "    # create a 2D array of True and False values indicating whether a given feature\n",
    "    # is missing for that row\n",
    "    missing_array_bool = indicator.transform(X)\n",
    "    \n",
    "    # transform into 1 and 0 for modeling\n",
    "    missing_array_int = missing_array_bool.astype(int)\n",
    "    \n",
    "    # helpful for readability but not needed for modeling\n",
    "    missing_column_names = [col + \"_missing\" for col in X.columns]\n",
    "    \n",
    "    # convert to df so it we can concat with X\n",
    "    missing_df = pd.DataFrame(missing_array_int, columns=missing_column_names, index=X.index)\n",
    "    \n",
    "    return pd.concat([X, missing_df], axis=1)"
   ]
  },
  {
   "cell_type": "code",
   "execution_count": 29,
   "metadata": {},
   "outputs": [],
   "source": [
    "X_train = add_missing_indicator_columns(X_train, indicator)"
   ]
  },
  {
   "cell_type": "code",
   "execution_count": 30,
   "metadata": {},
   "outputs": [
    {
     "data": {
      "text/html": [
       "<div>\n",
       "<style scoped>\n",
       "    .dataframe tbody tr th:only-of-type {\n",
       "        vertical-align: middle;\n",
       "    }\n",
       "\n",
       "    .dataframe tbody tr th {\n",
       "        vertical-align: top;\n",
       "    }\n",
       "\n",
       "    .dataframe thead th {\n",
       "        text-align: right;\n",
       "    }\n",
       "</style>\n",
       "<table border=\"1\" class=\"dataframe\">\n",
       "  <thead>\n",
       "    <tr style=\"text-align: right;\">\n",
       "      <th></th>\n",
       "      <th>Pclass</th>\n",
       "      <th>Name</th>\n",
       "      <th>Sex</th>\n",
       "      <th>Age</th>\n",
       "      <th>SibSp</th>\n",
       "      <th>Parch</th>\n",
       "      <th>Ticket</th>\n",
       "      <th>Fare</th>\n",
       "      <th>Cabin</th>\n",
       "      <th>Embarked</th>\n",
       "      <th>Pclass_missing</th>\n",
       "      <th>Name_missing</th>\n",
       "      <th>Sex_missing</th>\n",
       "      <th>Age_missing</th>\n",
       "      <th>SibSp_missing</th>\n",
       "      <th>Parch_missing</th>\n",
       "      <th>Ticket_missing</th>\n",
       "      <th>Fare_missing</th>\n",
       "      <th>Cabin_missing</th>\n",
       "      <th>Embarked_missing</th>\n",
       "    </tr>\n",
       "  </thead>\n",
       "  <tbody>\n",
       "    <tr>\n",
       "      <th>620</th>\n",
       "      <td>3</td>\n",
       "      <td>Yasbeck, Mr. Antoni</td>\n",
       "      <td>male</td>\n",
       "      <td>27.0</td>\n",
       "      <td>1</td>\n",
       "      <td>0</td>\n",
       "      <td>2659</td>\n",
       "      <td>14.4542</td>\n",
       "      <td>NaN</td>\n",
       "      <td>C</td>\n",
       "      <td>0</td>\n",
       "      <td>0</td>\n",
       "      <td>0</td>\n",
       "      <td>0</td>\n",
       "      <td>0</td>\n",
       "      <td>0</td>\n",
       "      <td>0</td>\n",
       "      <td>0</td>\n",
       "      <td>1</td>\n",
       "      <td>0</td>\n",
       "    </tr>\n",
       "    <tr>\n",
       "      <th>359</th>\n",
       "      <td>3</td>\n",
       "      <td>Mockler, Miss. Helen Mary \"Ellie\"</td>\n",
       "      <td>female</td>\n",
       "      <td>NaN</td>\n",
       "      <td>0</td>\n",
       "      <td>0</td>\n",
       "      <td>330980</td>\n",
       "      <td>7.8792</td>\n",
       "      <td>NaN</td>\n",
       "      <td>Q</td>\n",
       "      <td>0</td>\n",
       "      <td>0</td>\n",
       "      <td>0</td>\n",
       "      <td>1</td>\n",
       "      <td>0</td>\n",
       "      <td>0</td>\n",
       "      <td>0</td>\n",
       "      <td>0</td>\n",
       "      <td>1</td>\n",
       "      <td>0</td>\n",
       "    </tr>\n",
       "    <tr>\n",
       "      <th>512</th>\n",
       "      <td>1</td>\n",
       "      <td>McGough, Mr. James Robert</td>\n",
       "      <td>male</td>\n",
       "      <td>36.0</td>\n",
       "      <td>0</td>\n",
       "      <td>0</td>\n",
       "      <td>PC 17473</td>\n",
       "      <td>26.2875</td>\n",
       "      <td>E25</td>\n",
       "      <td>S</td>\n",
       "      <td>0</td>\n",
       "      <td>0</td>\n",
       "      <td>0</td>\n",
       "      <td>0</td>\n",
       "      <td>0</td>\n",
       "      <td>0</td>\n",
       "      <td>0</td>\n",
       "      <td>0</td>\n",
       "      <td>0</td>\n",
       "      <td>0</td>\n",
       "    </tr>\n",
       "    <tr>\n",
       "      <th>738</th>\n",
       "      <td>3</td>\n",
       "      <td>Ivanoff, Mr. Kanio</td>\n",
       "      <td>male</td>\n",
       "      <td>NaN</td>\n",
       "      <td>0</td>\n",
       "      <td>0</td>\n",
       "      <td>349201</td>\n",
       "      <td>7.8958</td>\n",
       "      <td>NaN</td>\n",
       "      <td>S</td>\n",
       "      <td>0</td>\n",
       "      <td>0</td>\n",
       "      <td>0</td>\n",
       "      <td>1</td>\n",
       "      <td>0</td>\n",
       "      <td>0</td>\n",
       "      <td>0</td>\n",
       "      <td>0</td>\n",
       "      <td>1</td>\n",
       "      <td>0</td>\n",
       "    </tr>\n",
       "    <tr>\n",
       "      <th>420</th>\n",
       "      <td>3</td>\n",
       "      <td>Gheorgheff, Mr. Stanio</td>\n",
       "      <td>male</td>\n",
       "      <td>NaN</td>\n",
       "      <td>0</td>\n",
       "      <td>0</td>\n",
       "      <td>349254</td>\n",
       "      <td>7.8958</td>\n",
       "      <td>NaN</td>\n",
       "      <td>C</td>\n",
       "      <td>0</td>\n",
       "      <td>0</td>\n",
       "      <td>0</td>\n",
       "      <td>1</td>\n",
       "      <td>0</td>\n",
       "      <td>0</td>\n",
       "      <td>0</td>\n",
       "      <td>0</td>\n",
       "      <td>1</td>\n",
       "      <td>0</td>\n",
       "    </tr>\n",
       "  </tbody>\n",
       "</table>\n",
       "</div>"
      ],
      "text/plain": [
       "     Pclass                               Name     Sex   Age  SibSp  Parch  \\\n",
       "620       3                Yasbeck, Mr. Antoni    male  27.0      1      0   \n",
       "359       3  Mockler, Miss. Helen Mary \"Ellie\"  female   NaN      0      0   \n",
       "512       1          McGough, Mr. James Robert    male  36.0      0      0   \n",
       "738       3                 Ivanoff, Mr. Kanio    male   NaN      0      0   \n",
       "420       3             Gheorgheff, Mr. Stanio    male   NaN      0      0   \n",
       "\n",
       "       Ticket     Fare Cabin Embarked  Pclass_missing  Name_missing  \\\n",
       "620      2659  14.4542   NaN        C               0             0   \n",
       "359    330980   7.8792   NaN        Q               0             0   \n",
       "512  PC 17473  26.2875   E25        S               0             0   \n",
       "738    349201   7.8958   NaN        S               0             0   \n",
       "420    349254   7.8958   NaN        C               0             0   \n",
       "\n",
       "     Sex_missing  Age_missing  SibSp_missing  Parch_missing  Ticket_missing  \\\n",
       "620            0            0              0              0               0   \n",
       "359            0            1              0              0               0   \n",
       "512            0            0              0              0               0   \n",
       "738            0            1              0              0               0   \n",
       "420            0            1              0              0               0   \n",
       "\n",
       "     Fare_missing  Cabin_missing  Embarked_missing  \n",
       "620             0              1                 0  \n",
       "359             0              1                 0  \n",
       "512             0              0                 0  \n",
       "738             0              1                 0  \n",
       "420             0              1                 0  "
      ]
     },
     "execution_count": 30,
     "metadata": {},
     "output_type": "execute_result"
    }
   ],
   "source": [
    "X_train.head()"
   ]
  },
  {
   "cell_type": "markdown",
   "metadata": {},
   "source": [
    "Now that we've specified which values were originally missing, let's fill in those missing values.  This takes two separate imputers because we want to use the mean for numeric data and the majority class for categorical data."
   ]
  },
  {
   "cell_type": "code",
   "execution_count": 31,
   "metadata": {},
   "outputs": [],
   "source": [
    "numeric_feature_names = [\"Age\", \"SibSp\", \"Parch\", \"Fare\"]\n",
    "categorical_feature_names = [\"Pclass\", \"Name\", \"Sex\", \"Ticket\", \"Cabin\", \"Embarked\"]\n",
    "\n",
    "X_train_numeric = X_train[numeric_feature_names]\n",
    "X_train_categorical = X_train[categorical_feature_names]"
   ]
  },
  {
   "cell_type": "code",
   "execution_count": 32,
   "metadata": {},
   "outputs": [
    {
     "data": {
      "text/plain": [
       "SimpleImputer(add_indicator=False, copy=True, fill_value=None,\n",
       "              missing_values=nan, strategy='mean', verbose=0)"
      ]
     },
     "execution_count": 32,
     "metadata": {},
     "output_type": "execute_result"
    }
   ],
   "source": [
    "numeric_imputer = SimpleImputer()\n",
    "numeric_imputer.fit(X_train_numeric)"
   ]
  },
  {
   "cell_type": "code",
   "execution_count": 33,
   "metadata": {},
   "outputs": [
    {
     "data": {
      "text/plain": [
       "SimpleImputer(add_indicator=False, copy=True, fill_value=None,\n",
       "              missing_values=nan, strategy='most_frequent', verbose=0)"
      ]
     },
     "execution_count": 33,
     "metadata": {},
     "output_type": "execute_result"
    }
   ],
   "source": [
    "categorical_imputer = SimpleImputer(strategy=\"most_frequent\")\n",
    "categorical_imputer.fit(X_train_categorical)"
   ]
  },
  {
   "cell_type": "code",
   "execution_count": 34,
   "metadata": {},
   "outputs": [],
   "source": [
    "def impute_missing_values(X, imputer):\n",
    "    \"\"\"\n",
    "    Given a DataFrame and an imputer, use the imputer to fill in all\n",
    "    missing values in the DataFrame\n",
    "    \"\"\"\n",
    "    imputed_array = imputer.transform(X)\n",
    "    imputed_df = pd.DataFrame(imputed_array, columns=X.columns, index=X.index)\n",
    "    return imputed_df"
   ]
  },
  {
   "cell_type": "code",
   "execution_count": 35,
   "metadata": {},
   "outputs": [],
   "source": [
    "X_train_numeric = impute_missing_values(X_train_numeric, numeric_imputer)\n",
    "X_train_categorical = impute_missing_values(X_train_categorical, categorical_imputer)"
   ]
  },
  {
   "cell_type": "markdown",
   "metadata": {},
   "source": [
    "Double-check to make sure that all of the missing values are gone:"
   ]
  },
  {
   "cell_type": "code",
   "execution_count": 36,
   "metadata": {},
   "outputs": [
    {
     "data": {
      "text/plain": [
       "Age         0\n",
       "SibSp       0\n",
       "Parch       0\n",
       "Fare        0\n",
       "Pclass      0\n",
       "Name        0\n",
       "Sex         0\n",
       "Ticket      0\n",
       "Cabin       0\n",
       "Embarked    0\n",
       "dtype: int64"
      ]
     },
     "execution_count": 36,
     "metadata": {},
     "output_type": "execute_result"
    }
   ],
   "source": [
    "X_train_imputed = pd.concat([X_train_numeric, X_train_categorical], axis=1)\n",
    "X_train_imputed.isna().sum()"
   ]
  },
  {
   "cell_type": "markdown",
   "metadata": {},
   "source": [
    "Drop all of the old columns from X_train, then concat the new imputed ones"
   ]
  },
  {
   "cell_type": "code",
   "execution_count": 37,
   "metadata": {},
   "outputs": [],
   "source": [
    "X_train = X_train.drop(numeric_feature_names + categorical_feature_names, axis=1)\n",
    "X_train = pd.concat([X_train_imputed, X_train], axis=1)"
   ]
  },
  {
   "cell_type": "code",
   "execution_count": 38,
   "metadata": {},
   "outputs": [
    {
     "data": {
      "text/html": [
       "<div>\n",
       "<style scoped>\n",
       "    .dataframe tbody tr th:only-of-type {\n",
       "        vertical-align: middle;\n",
       "    }\n",
       "\n",
       "    .dataframe tbody tr th {\n",
       "        vertical-align: top;\n",
       "    }\n",
       "\n",
       "    .dataframe thead th {\n",
       "        text-align: right;\n",
       "    }\n",
       "</style>\n",
       "<table border=\"1\" class=\"dataframe\">\n",
       "  <thead>\n",
       "    <tr style=\"text-align: right;\">\n",
       "      <th></th>\n",
       "      <th>Age</th>\n",
       "      <th>SibSp</th>\n",
       "      <th>Parch</th>\n",
       "      <th>Fare</th>\n",
       "      <th>Pclass</th>\n",
       "      <th>Name</th>\n",
       "      <th>Sex</th>\n",
       "      <th>Ticket</th>\n",
       "      <th>Cabin</th>\n",
       "      <th>Embarked</th>\n",
       "      <th>Pclass_missing</th>\n",
       "      <th>Name_missing</th>\n",
       "      <th>Sex_missing</th>\n",
       "      <th>Age_missing</th>\n",
       "      <th>SibSp_missing</th>\n",
       "      <th>Parch_missing</th>\n",
       "      <th>Ticket_missing</th>\n",
       "      <th>Fare_missing</th>\n",
       "      <th>Cabin_missing</th>\n",
       "      <th>Embarked_missing</th>\n",
       "    </tr>\n",
       "  </thead>\n",
       "  <tbody>\n",
       "    <tr>\n",
       "      <th>620</th>\n",
       "      <td>27.000000</td>\n",
       "      <td>1.0</td>\n",
       "      <td>0.0</td>\n",
       "      <td>14.4542</td>\n",
       "      <td>3</td>\n",
       "      <td>Yasbeck, Mr. Antoni</td>\n",
       "      <td>male</td>\n",
       "      <td>2659</td>\n",
       "      <td>B96 B98</td>\n",
       "      <td>C</td>\n",
       "      <td>0</td>\n",
       "      <td>0</td>\n",
       "      <td>0</td>\n",
       "      <td>0</td>\n",
       "      <td>0</td>\n",
       "      <td>0</td>\n",
       "      <td>0</td>\n",
       "      <td>0</td>\n",
       "      <td>1</td>\n",
       "      <td>0</td>\n",
       "    </tr>\n",
       "    <tr>\n",
       "      <th>359</th>\n",
       "      <td>29.927982</td>\n",
       "      <td>0.0</td>\n",
       "      <td>0.0</td>\n",
       "      <td>7.8792</td>\n",
       "      <td>3</td>\n",
       "      <td>Mockler, Miss. Helen Mary \"Ellie\"</td>\n",
       "      <td>female</td>\n",
       "      <td>330980</td>\n",
       "      <td>B96 B98</td>\n",
       "      <td>Q</td>\n",
       "      <td>0</td>\n",
       "      <td>0</td>\n",
       "      <td>0</td>\n",
       "      <td>1</td>\n",
       "      <td>0</td>\n",
       "      <td>0</td>\n",
       "      <td>0</td>\n",
       "      <td>0</td>\n",
       "      <td>1</td>\n",
       "      <td>0</td>\n",
       "    </tr>\n",
       "    <tr>\n",
       "      <th>512</th>\n",
       "      <td>36.000000</td>\n",
       "      <td>0.0</td>\n",
       "      <td>0.0</td>\n",
       "      <td>26.2875</td>\n",
       "      <td>1</td>\n",
       "      <td>McGough, Mr. James Robert</td>\n",
       "      <td>male</td>\n",
       "      <td>PC 17473</td>\n",
       "      <td>E25</td>\n",
       "      <td>S</td>\n",
       "      <td>0</td>\n",
       "      <td>0</td>\n",
       "      <td>0</td>\n",
       "      <td>0</td>\n",
       "      <td>0</td>\n",
       "      <td>0</td>\n",
       "      <td>0</td>\n",
       "      <td>0</td>\n",
       "      <td>0</td>\n",
       "      <td>0</td>\n",
       "    </tr>\n",
       "    <tr>\n",
       "      <th>738</th>\n",
       "      <td>29.927982</td>\n",
       "      <td>0.0</td>\n",
       "      <td>0.0</td>\n",
       "      <td>7.8958</td>\n",
       "      <td>3</td>\n",
       "      <td>Ivanoff, Mr. Kanio</td>\n",
       "      <td>male</td>\n",
       "      <td>349201</td>\n",
       "      <td>B96 B98</td>\n",
       "      <td>S</td>\n",
       "      <td>0</td>\n",
       "      <td>0</td>\n",
       "      <td>0</td>\n",
       "      <td>1</td>\n",
       "      <td>0</td>\n",
       "      <td>0</td>\n",
       "      <td>0</td>\n",
       "      <td>0</td>\n",
       "      <td>1</td>\n",
       "      <td>0</td>\n",
       "    </tr>\n",
       "    <tr>\n",
       "      <th>420</th>\n",
       "      <td>29.927982</td>\n",
       "      <td>0.0</td>\n",
       "      <td>0.0</td>\n",
       "      <td>7.8958</td>\n",
       "      <td>3</td>\n",
       "      <td>Gheorgheff, Mr. Stanio</td>\n",
       "      <td>male</td>\n",
       "      <td>349254</td>\n",
       "      <td>B96 B98</td>\n",
       "      <td>C</td>\n",
       "      <td>0</td>\n",
       "      <td>0</td>\n",
       "      <td>0</td>\n",
       "      <td>1</td>\n",
       "      <td>0</td>\n",
       "      <td>0</td>\n",
       "      <td>0</td>\n",
       "      <td>0</td>\n",
       "      <td>1</td>\n",
       "      <td>0</td>\n",
       "    </tr>\n",
       "  </tbody>\n",
       "</table>\n",
       "</div>"
      ],
      "text/plain": [
       "           Age  SibSp  Parch     Fare Pclass  \\\n",
       "620  27.000000    1.0    0.0  14.4542      3   \n",
       "359  29.927982    0.0    0.0   7.8792      3   \n",
       "512  36.000000    0.0    0.0  26.2875      1   \n",
       "738  29.927982    0.0    0.0   7.8958      3   \n",
       "420  29.927982    0.0    0.0   7.8958      3   \n",
       "\n",
       "                                  Name     Sex    Ticket    Cabin Embarked  \\\n",
       "620                Yasbeck, Mr. Antoni    male      2659  B96 B98        C   \n",
       "359  Mockler, Miss. Helen Mary \"Ellie\"  female    330980  B96 B98        Q   \n",
       "512          McGough, Mr. James Robert    male  PC 17473      E25        S   \n",
       "738                 Ivanoff, Mr. Kanio    male    349201  B96 B98        S   \n",
       "420             Gheorgheff, Mr. Stanio    male    349254  B96 B98        C   \n",
       "\n",
       "     Pclass_missing  Name_missing  Sex_missing  Age_missing  SibSp_missing  \\\n",
       "620               0             0            0            0              0   \n",
       "359               0             0            0            1              0   \n",
       "512               0             0            0            0              0   \n",
       "738               0             0            0            1              0   \n",
       "420               0             0            0            1              0   \n",
       "\n",
       "     Parch_missing  Ticket_missing  Fare_missing  Cabin_missing  \\\n",
       "620              0               0             0              1   \n",
       "359              0               0             0              1   \n",
       "512              0               0             0              0   \n",
       "738              0               0             0              1   \n",
       "420              0               0             0              1   \n",
       "\n",
       "     Embarked_missing  \n",
       "620                 0  \n",
       "359                 0  \n",
       "512                 0  \n",
       "738                 0  \n",
       "420                 0  "
      ]
     },
     "execution_count": 38,
     "metadata": {},
     "output_type": "execute_result"
    }
   ],
   "source": [
    "X_train.head()"
   ]
  },
  {
   "cell_type": "code",
   "execution_count": 39,
   "metadata": {},
   "outputs": [
    {
     "data": {
      "text/plain": [
       "Age                 0\n",
       "SibSp               0\n",
       "Parch               0\n",
       "Fare                0\n",
       "Pclass              0\n",
       "Name                0\n",
       "Sex                 0\n",
       "Ticket              0\n",
       "Cabin               0\n",
       "Embarked            0\n",
       "Pclass_missing      0\n",
       "Name_missing        0\n",
       "Sex_missing         0\n",
       "Age_missing         0\n",
       "SibSp_missing       0\n",
       "Parch_missing       0\n",
       "Ticket_missing      0\n",
       "Fare_missing        0\n",
       "Cabin_missing       0\n",
       "Embarked_missing    0\n",
       "dtype: int64"
      ]
     },
     "execution_count": 39,
     "metadata": {},
     "output_type": "execute_result"
    }
   ],
   "source": [
    "X_train.isna().sum()"
   ]
  },
  {
   "cell_type": "markdown",
   "metadata": {},
   "source": [
    "### One-Hot Encoding\n",
    "\n",
    "Now that there are no missing values, convert all of the categorical features into numbers."
   ]
  },
  {
   "cell_type": "code",
   "execution_count": 40,
   "metadata": {},
   "outputs": [],
   "source": [
    "def encode_and_concat_feature_train(X_train, feature_name):\n",
    "    \"\"\"\n",
    "    Helper function for transforming training data.  It takes in the full X dataframe and\n",
    "    feature name, makes a one-hot encoder, and returns the encoder as well as the dataframe\n",
    "    with that feature transformed into multiple columns of 1s and 0s\n",
    "    \"\"\"\n",
    "    # make a one-hot encoder and fit it to the training data\n",
    "    ohe = OneHotEncoder(categories=\"auto\", handle_unknown=\"ignore\")\n",
    "    single_feature_df = X_train[[feature_name]]\n",
    "    ohe.fit(single_feature_df)\n",
    "    \n",
    "    # call helper function that actually encodes the feature and concats it\n",
    "    X_train = encode_and_concat_feature(X_train, feature_name, ohe)\n",
    "    \n",
    "    return ohe, X_train"
   ]
  },
  {
   "cell_type": "code",
   "execution_count": 41,
   "metadata": {},
   "outputs": [],
   "source": [
    "def encode_and_concat_feature(X, feature_name, ohe):\n",
    "    \"\"\"\n",
    "    Helper function for transforming a feature into multiple columns of 1s and 0s. Used\n",
    "    in both training and testing steps.  Takes in the full X dataframe, feature name, \n",
    "    and encoder, and returns the dataframe with that feature transformed into multiple\n",
    "    columns of 1s and 0s\n",
    "    \"\"\"\n",
    "    # create new one-hot encoded df based on the feature\n",
    "    single_feature_df = X[[feature_name]]\n",
    "    feature_array = ohe.transform(single_feature_df).toarray()\n",
    "    ohe_df = pd.DataFrame(feature_array, columns=ohe.categories_[0], index=X.index)\n",
    "    \n",
    "    # drop the old feature from X and concat the new one-hot encoded df\n",
    "    X = X.drop(feature_name, axis=1)\n",
    "    X = pd.concat([X, ohe_df], axis=1)\n",
    "    \n",
    "    return X"
   ]
  },
  {
   "cell_type": "code",
   "execution_count": 42,
   "metadata": {},
   "outputs": [],
   "source": [
    "encoders = {}\n",
    "\n",
    "for categorical_feature in categorical_feature_names:\n",
    "    ohe, X_train = encode_and_concat_feature_train(X_train, categorical_feature)\n",
    "    encoders[categorical_feature] = ohe"
   ]
  },
  {
   "cell_type": "code",
   "execution_count": 43,
   "metadata": {},
   "outputs": [
    {
     "data": {
      "text/html": [
       "<div>\n",
       "<style scoped>\n",
       "    .dataframe tbody tr th:only-of-type {\n",
       "        vertical-align: middle;\n",
       "    }\n",
       "\n",
       "    .dataframe tbody tr th {\n",
       "        vertical-align: top;\n",
       "    }\n",
       "\n",
       "    .dataframe thead th {\n",
       "        text-align: right;\n",
       "    }\n",
       "</style>\n",
       "<table border=\"1\" class=\"dataframe\">\n",
       "  <thead>\n",
       "    <tr style=\"text-align: right;\">\n",
       "      <th></th>\n",
       "      <th>Age</th>\n",
       "      <th>SibSp</th>\n",
       "      <th>Parch</th>\n",
       "      <th>Fare</th>\n",
       "      <th>Pclass_missing</th>\n",
       "      <th>Name_missing</th>\n",
       "      <th>Sex_missing</th>\n",
       "      <th>Age_missing</th>\n",
       "      <th>SibSp_missing</th>\n",
       "      <th>Parch_missing</th>\n",
       "      <th>...</th>\n",
       "      <th>F G73</th>\n",
       "      <th>F2</th>\n",
       "      <th>F33</th>\n",
       "      <th>F38</th>\n",
       "      <th>F4</th>\n",
       "      <th>G6</th>\n",
       "      <th>T</th>\n",
       "      <th>C</th>\n",
       "      <th>Q</th>\n",
       "      <th>S</th>\n",
       "    </tr>\n",
       "  </thead>\n",
       "  <tbody>\n",
       "    <tr>\n",
       "      <th>620</th>\n",
       "      <td>27.000000</td>\n",
       "      <td>1.0</td>\n",
       "      <td>0.0</td>\n",
       "      <td>14.4542</td>\n",
       "      <td>0</td>\n",
       "      <td>0</td>\n",
       "      <td>0</td>\n",
       "      <td>0</td>\n",
       "      <td>0</td>\n",
       "      <td>0</td>\n",
       "      <td>...</td>\n",
       "      <td>0.0</td>\n",
       "      <td>0.0</td>\n",
       "      <td>0.0</td>\n",
       "      <td>0.0</td>\n",
       "      <td>0.0</td>\n",
       "      <td>0.0</td>\n",
       "      <td>0.0</td>\n",
       "      <td>1.0</td>\n",
       "      <td>0.0</td>\n",
       "      <td>0.0</td>\n",
       "    </tr>\n",
       "    <tr>\n",
       "      <th>359</th>\n",
       "      <td>29.927982</td>\n",
       "      <td>0.0</td>\n",
       "      <td>0.0</td>\n",
       "      <td>7.8792</td>\n",
       "      <td>0</td>\n",
       "      <td>0</td>\n",
       "      <td>0</td>\n",
       "      <td>1</td>\n",
       "      <td>0</td>\n",
       "      <td>0</td>\n",
       "      <td>...</td>\n",
       "      <td>0.0</td>\n",
       "      <td>0.0</td>\n",
       "      <td>0.0</td>\n",
       "      <td>0.0</td>\n",
       "      <td>0.0</td>\n",
       "      <td>0.0</td>\n",
       "      <td>0.0</td>\n",
       "      <td>0.0</td>\n",
       "      <td>1.0</td>\n",
       "      <td>0.0</td>\n",
       "    </tr>\n",
       "    <tr>\n",
       "      <th>512</th>\n",
       "      <td>36.000000</td>\n",
       "      <td>0.0</td>\n",
       "      <td>0.0</td>\n",
       "      <td>26.2875</td>\n",
       "      <td>0</td>\n",
       "      <td>0</td>\n",
       "      <td>0</td>\n",
       "      <td>0</td>\n",
       "      <td>0</td>\n",
       "      <td>0</td>\n",
       "      <td>...</td>\n",
       "      <td>0.0</td>\n",
       "      <td>0.0</td>\n",
       "      <td>0.0</td>\n",
       "      <td>0.0</td>\n",
       "      <td>0.0</td>\n",
       "      <td>0.0</td>\n",
       "      <td>0.0</td>\n",
       "      <td>0.0</td>\n",
       "      <td>0.0</td>\n",
       "      <td>1.0</td>\n",
       "    </tr>\n",
       "    <tr>\n",
       "      <th>738</th>\n",
       "      <td>29.927982</td>\n",
       "      <td>0.0</td>\n",
       "      <td>0.0</td>\n",
       "      <td>7.8958</td>\n",
       "      <td>0</td>\n",
       "      <td>0</td>\n",
       "      <td>0</td>\n",
       "      <td>1</td>\n",
       "      <td>0</td>\n",
       "      <td>0</td>\n",
       "      <td>...</td>\n",
       "      <td>0.0</td>\n",
       "      <td>0.0</td>\n",
       "      <td>0.0</td>\n",
       "      <td>0.0</td>\n",
       "      <td>0.0</td>\n",
       "      <td>0.0</td>\n",
       "      <td>0.0</td>\n",
       "      <td>0.0</td>\n",
       "      <td>0.0</td>\n",
       "      <td>1.0</td>\n",
       "    </tr>\n",
       "    <tr>\n",
       "      <th>420</th>\n",
       "      <td>29.927982</td>\n",
       "      <td>0.0</td>\n",
       "      <td>0.0</td>\n",
       "      <td>7.8958</td>\n",
       "      <td>0</td>\n",
       "      <td>0</td>\n",
       "      <td>0</td>\n",
       "      <td>1</td>\n",
       "      <td>0</td>\n",
       "      <td>0</td>\n",
       "      <td>...</td>\n",
       "      <td>0.0</td>\n",
       "      <td>0.0</td>\n",
       "      <td>0.0</td>\n",
       "      <td>0.0</td>\n",
       "      <td>0.0</td>\n",
       "      <td>0.0</td>\n",
       "      <td>0.0</td>\n",
       "      <td>1.0</td>\n",
       "      <td>0.0</td>\n",
       "      <td>0.0</td>\n",
       "    </tr>\n",
       "  </tbody>\n",
       "</table>\n",
       "<p>5 rows × 1345 columns</p>\n",
       "</div>"
      ],
      "text/plain": [
       "           Age  SibSp  Parch     Fare  Pclass_missing  Name_missing  \\\n",
       "620  27.000000    1.0    0.0  14.4542               0             0   \n",
       "359  29.927982    0.0    0.0   7.8792               0             0   \n",
       "512  36.000000    0.0    0.0  26.2875               0             0   \n",
       "738  29.927982    0.0    0.0   7.8958               0             0   \n",
       "420  29.927982    0.0    0.0   7.8958               0             0   \n",
       "\n",
       "     Sex_missing  Age_missing  SibSp_missing  Parch_missing  ...  F G73   F2  \\\n",
       "620            0            0              0              0  ...    0.0  0.0   \n",
       "359            0            1              0              0  ...    0.0  0.0   \n",
       "512            0            0              0              0  ...    0.0  0.0   \n",
       "738            0            1              0              0  ...    0.0  0.0   \n",
       "420            0            1              0              0  ...    0.0  0.0   \n",
       "\n",
       "     F33  F38   F4   G6    T    C    Q    S  \n",
       "620  0.0  0.0  0.0  0.0  0.0  1.0  0.0  0.0  \n",
       "359  0.0  0.0  0.0  0.0  0.0  0.0  1.0  0.0  \n",
       "512  0.0  0.0  0.0  0.0  0.0  0.0  0.0  1.0  \n",
       "738  0.0  0.0  0.0  0.0  0.0  0.0  0.0  1.0  \n",
       "420  0.0  0.0  0.0  0.0  0.0  1.0  0.0  0.0  \n",
       "\n",
       "[5 rows x 1345 columns]"
      ]
     },
     "execution_count": 43,
     "metadata": {},
     "output_type": "execute_result"
    }
   ],
   "source": [
    "X_train.head()"
   ]
  },
  {
   "cell_type": "code",
   "execution_count": 44,
   "metadata": {},
   "outputs": [
    {
     "data": {
      "text/plain": [
       "(668, 1345)"
      ]
     },
     "execution_count": 44,
     "metadata": {},
     "output_type": "execute_result"
    }
   ],
   "source": [
    "X_train.shape"
   ]
  },
  {
   "cell_type": "markdown",
   "metadata": {},
   "source": [
    "This is...a ridiculous number of columns.  How did we end up with more columns than rows?\n",
    "\n",
    "(Answer: each unique name and ticket number is now its own column)"
   ]
  },
  {
   "cell_type": "markdown",
   "metadata": {},
   "source": [
    "## Modeling, Again\n",
    "\n",
    "Let's run a logistic regression on our ridiculous number of columns"
   ]
  },
  {
   "cell_type": "code",
   "execution_count": 45,
   "metadata": {},
   "outputs": [
    {
     "name": "stderr",
     "output_type": "stream",
     "text": [
      "/Users/ehoffman/.conda/envs/prework-labs/lib/python3.7/site-packages/sklearn/linear_model/_logistic.py:939: ConvergenceWarning: lbfgs failed to converge (status=1):\n",
      "STOP: TOTAL NO. of ITERATIONS REACHED LIMIT.\n",
      "\n",
      "Increase the number of iterations (max_iter) or scale the data as shown in:\n",
      "    https://scikit-learn.org/stable/modules/preprocessing.html.\n",
      "Please also refer to the documentation for alternative solver options:\n",
      "    https://scikit-learn.org/stable/modules/linear_model.html#logistic-regression\n",
      "  extra_warning_msg=_LOGISTIC_SOLVER_CONVERGENCE_MSG)\n"
     ]
    },
    {
     "data": {
      "text/plain": [
       "LogisticRegression(C=1.0, class_weight=None, dual=False, fit_intercept=True,\n",
       "                   intercept_scaling=1, l1_ratio=None, max_iter=100,\n",
       "                   multi_class='auto', n_jobs=None, penalty='l2',\n",
       "                   random_state=2020, solver='lbfgs', tol=0.0001, verbose=0,\n",
       "                   warm_start=False)"
      ]
     },
     "execution_count": 45,
     "metadata": {},
     "output_type": "execute_result"
    }
   ],
   "source": [
    "logreg_model = LogisticRegression(random_state=2020)\n",
    "logreg_model.fit(X_train, y_train)"
   ]
  },
  {
   "cell_type": "markdown",
   "metadata": {},
   "source": [
    "What happened there?  This solver had no problem before\n",
    "\n",
    "Answer: it wasn't able to find the minimum with this number of steps in gradient descent\n",
    "\n",
    "Let's try a couple of stopgap measures to get the model to run"
   ]
  },
  {
   "cell_type": "code",
   "execution_count": 46,
   "metadata": {},
   "outputs": [
    {
     "data": {
      "text/plain": [
       "LogisticRegression(C=1.0, class_weight=None, dual=False, fit_intercept=True,\n",
       "                   intercept_scaling=1, l1_ratio=None, max_iter=1000,\n",
       "                   multi_class='auto', n_jobs=None, penalty='l2',\n",
       "                   random_state=2020, solver='lbfgs', tol=0.0001, verbose=0,\n",
       "                   warm_start=False)"
      ]
     },
     "execution_count": 46,
     "metadata": {},
     "output_type": "execute_result"
    }
   ],
   "source": [
    "logreg_model_more_iterations = LogisticRegression(random_state=2020, max_iter=1000)\n",
    "logreg_model_more_iterations.fit(X_train, y_train)"
   ]
  },
  {
   "cell_type": "code",
   "execution_count": 47,
   "metadata": {},
   "outputs": [
    {
     "data": {
      "text/plain": [
       "LogisticRegression(C=0.01, class_weight=None, dual=False, fit_intercept=True,\n",
       "                   intercept_scaling=1, l1_ratio=None, max_iter=100,\n",
       "                   multi_class='auto', n_jobs=None, penalty='l2',\n",
       "                   random_state=2020, solver='lbfgs', tol=0.0001, verbose=0,\n",
       "                   warm_start=False)"
      ]
     },
     "execution_count": 47,
     "metadata": {},
     "output_type": "execute_result"
    }
   ],
   "source": [
    "logreg_model_more_regularization = LogisticRegression(random_state=2020, C=0.01)\n",
    "logreg_model_more_regularization.fit(X_train, y_train)"
   ]
  },
  {
   "cell_type": "code",
   "execution_count": 48,
   "metadata": {},
   "outputs": [
    {
     "data": {
      "text/plain": [
       "LogisticRegression(C=1.0, class_weight=None, dual=False, fit_intercept=True,\n",
       "                   intercept_scaling=1, l1_ratio=None, max_iter=100,\n",
       "                   multi_class='auto', n_jobs=None, penalty='l2',\n",
       "                   random_state=2020, solver='lbfgs', tol=100, verbose=0,\n",
       "                   warm_start=False)"
      ]
     },
     "execution_count": 48,
     "metadata": {},
     "output_type": "execute_result"
    }
   ],
   "source": [
    "logreg_model_higher_tolerance = LogisticRegression(random_state=2020, tol=100)\n",
    "logreg_model_higher_tolerance.fit(X_train, y_train)"
   ]
  },
  {
   "cell_type": "markdown",
   "metadata": {},
   "source": [
    "## Model Evaluation, Again"
   ]
  },
  {
   "cell_type": "code",
   "execution_count": 49,
   "metadata": {},
   "outputs": [
    {
     "data": {
      "image/png": "[encoded data removed]",
      "text/plain": [
       "<Figure size 1080x432 with 6 Axes>"
      ]
     },
     "metadata": {
      "needs_background": "light"
     },
     "output_type": "display_data"
    }
   ],
   "source": [
    "fix, axes = plt.subplots(nrows=1, ncols=3, figsize=(15, 6))\n",
    "\n",
    "axes[0].set_title(\"More Iterations\")\n",
    "axes[1].set_title(\"More Regularization\")\n",
    "axes[2].set_title(\"More Tolerance\")\n",
    "\n",
    "plot_confusion_matrix(logreg_model_more_iterations, X_train, y_train, ax=axes[0], cmap=\"plasma\")\n",
    "plot_confusion_matrix(logreg_model_more_regularization, X_train, y_train, ax=axes[1], cmap=\"plasma\")\n",
    "plot_confusion_matrix(logreg_model_higher_tolerance, X_train, y_train, ax=axes[2], cmap=\"plasma\");"
   ]
  },
  {
   "cell_type": "code",
   "execution_count": 50,
   "metadata": {},
   "outputs": [
    {
     "name": "stdout",
     "output_type": "stream",
     "text": [
      "[0.78475336 0.84304933 0.81081081]\n",
      "[0.74887892 0.75336323 0.74324324]\n",
      "[0.69058296 0.67713004 0.66216216]\n"
     ]
    }
   ],
   "source": [
    "print(cross_val_score(logreg_model_more_iterations, X_train, y_train, cv=3))\n",
    "print(cross_val_score(logreg_model_more_regularization, X_train, y_train, cv=3))\n",
    "print(cross_val_score(logreg_model_higher_tolerance, X_train, y_train, cv=3))"
   ]
  },
  {
   "cell_type": "markdown",
   "metadata": {},
   "source": [
    "## Data Preparation, Again\n",
    "\n",
    "Let's scale all of the features, so the model isn't overly penalizing age and fare"
   ]
  },
  {
   "cell_type": "code",
   "execution_count": 51,
   "metadata": {},
   "outputs": [
    {
     "data": {
      "text/plain": [
       "StandardScaler(copy=True, with_mean=True, with_std=True)"
      ]
     },
     "execution_count": 51,
     "metadata": {},
     "output_type": "execute_result"
    }
   ],
   "source": [
    "scaler = StandardScaler()\n",
    "\n",
    "scaler.fit(X_train)"
   ]
  },
  {
   "cell_type": "code",
   "execution_count": 52,
   "metadata": {},
   "outputs": [],
   "source": [
    "def scale_values(X, scaler):\n",
    "    \"\"\"\n",
    "    Given a DataFrame and a fitted scaler, use the scaler to scale all of the features\n",
    "    \"\"\"\n",
    "    scaled_array = scaler.transform(X)\n",
    "    scaled_df = pd.DataFrame(scaled_array, columns=X.columns, index=X.index)\n",
    "    return scaled_df"
   ]
  },
  {
   "cell_type": "code",
   "execution_count": 53,
   "metadata": {},
   "outputs": [],
   "source": [
    "X_train = scale_values(X_train, scaler)"
   ]
  },
  {
   "cell_type": "code",
   "execution_count": 54,
   "metadata": {},
   "outputs": [
    {
     "data": {
      "text/html": [
       "<div>\n",
       "<style scoped>\n",
       "    .dataframe tbody tr th:only-of-type {\n",
       "        vertical-align: middle;\n",
       "    }\n",
       "\n",
       "    .dataframe tbody tr th {\n",
       "        vertical-align: top;\n",
       "    }\n",
       "\n",
       "    .dataframe thead th {\n",
       "        text-align: right;\n",
       "    }\n",
       "</style>\n",
       "<table border=\"1\" class=\"dataframe\">\n",
       "  <thead>\n",
       "    <tr style=\"text-align: right;\">\n",
       "      <th></th>\n",
       "      <th>Age</th>\n",
       "      <th>SibSp</th>\n",
       "      <th>Parch</th>\n",
       "      <th>Fare</th>\n",
       "      <th>Pclass_missing</th>\n",
       "      <th>Name_missing</th>\n",
       "      <th>Sex_missing</th>\n",
       "      <th>Age_missing</th>\n",
       "      <th>SibSp_missing</th>\n",
       "      <th>Parch_missing</th>\n",
       "      <th>...</th>\n",
       "      <th>F G73</th>\n",
       "      <th>F2</th>\n",
       "      <th>F33</th>\n",
       "      <th>F38</th>\n",
       "      <th>F4</th>\n",
       "      <th>G6</th>\n",
       "      <th>T</th>\n",
       "      <th>C</th>\n",
       "      <th>Q</th>\n",
       "      <th>S</th>\n",
       "    </tr>\n",
       "  </thead>\n",
       "  <tbody>\n",
       "    <tr>\n",
       "      <th>620</th>\n",
       "      <td>-2.197037e-01</td>\n",
       "      <td>0.445769</td>\n",
       "      <td>-0.488105</td>\n",
       "      <td>-0.367749</td>\n",
       "      <td>0.0</td>\n",
       "      <td>0.0</td>\n",
       "      <td>0.0</td>\n",
       "      <td>-0.475066</td>\n",
       "      <td>0.0</td>\n",
       "      <td>0.0</td>\n",
       "      <td>...</td>\n",
       "      <td>-0.0548</td>\n",
       "      <td>-0.0548</td>\n",
       "      <td>-0.03872</td>\n",
       "      <td>-0.03872</td>\n",
       "      <td>-0.03872</td>\n",
       "      <td>-0.067166</td>\n",
       "      <td>-0.03872</td>\n",
       "      <td>2.074027</td>\n",
       "      <td>-0.299537</td>\n",
       "      <td>-1.640307</td>\n",
       "    </tr>\n",
       "    <tr>\n",
       "      <th>359</th>\n",
       "      <td>-2.665810e-16</td>\n",
       "      <td>-0.473285</td>\n",
       "      <td>-0.488105</td>\n",
       "      <td>-0.501995</td>\n",
       "      <td>0.0</td>\n",
       "      <td>0.0</td>\n",
       "      <td>0.0</td>\n",
       "      <td>2.104969</td>\n",
       "      <td>0.0</td>\n",
       "      <td>0.0</td>\n",
       "      <td>...</td>\n",
       "      <td>-0.0548</td>\n",
       "      <td>-0.0548</td>\n",
       "      <td>-0.03872</td>\n",
       "      <td>-0.03872</td>\n",
       "      <td>-0.03872</td>\n",
       "      <td>-0.067166</td>\n",
       "      <td>-0.03872</td>\n",
       "      <td>-0.482154</td>\n",
       "      <td>3.338481</td>\n",
       "      <td>-1.640307</td>\n",
       "    </tr>\n",
       "    <tr>\n",
       "      <th>512</th>\n",
       "      <td>4.556193e-01</td>\n",
       "      <td>-0.473285</td>\n",
       "      <td>-0.488105</td>\n",
       "      <td>-0.126142</td>\n",
       "      <td>0.0</td>\n",
       "      <td>0.0</td>\n",
       "      <td>0.0</td>\n",
       "      <td>-0.475066</td>\n",
       "      <td>0.0</td>\n",
       "      <td>0.0</td>\n",
       "      <td>...</td>\n",
       "      <td>-0.0548</td>\n",
       "      <td>-0.0548</td>\n",
       "      <td>-0.03872</td>\n",
       "      <td>-0.03872</td>\n",
       "      <td>-0.03872</td>\n",
       "      <td>-0.067166</td>\n",
       "      <td>-0.03872</td>\n",
       "      <td>-0.482154</td>\n",
       "      <td>-0.299537</td>\n",
       "      <td>0.609642</td>\n",
       "    </tr>\n",
       "    <tr>\n",
       "      <th>738</th>\n",
       "      <td>-2.665810e-16</td>\n",
       "      <td>-0.473285</td>\n",
       "      <td>-0.488105</td>\n",
       "      <td>-0.501656</td>\n",
       "      <td>0.0</td>\n",
       "      <td>0.0</td>\n",
       "      <td>0.0</td>\n",
       "      <td>2.104969</td>\n",
       "      <td>0.0</td>\n",
       "      <td>0.0</td>\n",
       "      <td>...</td>\n",
       "      <td>-0.0548</td>\n",
       "      <td>-0.0548</td>\n",
       "      <td>-0.03872</td>\n",
       "      <td>-0.03872</td>\n",
       "      <td>-0.03872</td>\n",
       "      <td>-0.067166</td>\n",
       "      <td>-0.03872</td>\n",
       "      <td>-0.482154</td>\n",
       "      <td>-0.299537</td>\n",
       "      <td>0.609642</td>\n",
       "    </tr>\n",
       "    <tr>\n",
       "      <th>420</th>\n",
       "      <td>-2.665810e-16</td>\n",
       "      <td>-0.473285</td>\n",
       "      <td>-0.488105</td>\n",
       "      <td>-0.501656</td>\n",
       "      <td>0.0</td>\n",
       "      <td>0.0</td>\n",
       "      <td>0.0</td>\n",
       "      <td>2.104969</td>\n",
       "      <td>0.0</td>\n",
       "      <td>0.0</td>\n",
       "      <td>...</td>\n",
       "      <td>-0.0548</td>\n",
       "      <td>-0.0548</td>\n",
       "      <td>-0.03872</td>\n",
       "      <td>-0.03872</td>\n",
       "      <td>-0.03872</td>\n",
       "      <td>-0.067166</td>\n",
       "      <td>-0.03872</td>\n",
       "      <td>2.074027</td>\n",
       "      <td>-0.299537</td>\n",
       "      <td>-1.640307</td>\n",
       "    </tr>\n",
       "  </tbody>\n",
       "</table>\n",
       "<p>5 rows × 1345 columns</p>\n",
       "</div>"
      ],
      "text/plain": [
       "              Age     SibSp     Parch      Fare  Pclass_missing  Name_missing  \\\n",
       "620 -2.197037e-01  0.445769 -0.488105 -0.367749             0.0           0.0   \n",
       "359 -2.665810e-16 -0.473285 -0.488105 -0.501995             0.0           0.0   \n",
       "512  4.556193e-01 -0.473285 -0.488105 -0.126142             0.0           0.0   \n",
       "738 -2.665810e-16 -0.473285 -0.488105 -0.501656             0.0           0.0   \n",
       "420 -2.665810e-16 -0.473285 -0.488105 -0.501656             0.0           0.0   \n",
       "\n",
       "     Sex_missing  Age_missing  SibSp_missing  Parch_missing  ...   F G73  \\\n",
       "620          0.0    -0.475066            0.0            0.0  ... -0.0548   \n",
       "359          0.0     2.104969            0.0            0.0  ... -0.0548   \n",
       "512          0.0    -0.475066            0.0            0.0  ... -0.0548   \n",
       "738          0.0     2.104969            0.0            0.0  ... -0.0548   \n",
       "420          0.0     2.104969            0.0            0.0  ... -0.0548   \n",
       "\n",
       "         F2      F33      F38       F4        G6        T         C         Q  \\\n",
       "620 -0.0548 -0.03872 -0.03872 -0.03872 -0.067166 -0.03872  2.074027 -0.299537   \n",
       "359 -0.0548 -0.03872 -0.03872 -0.03872 -0.067166 -0.03872 -0.482154  3.338481   \n",
       "512 -0.0548 -0.03872 -0.03872 -0.03872 -0.067166 -0.03872 -0.482154 -0.299537   \n",
       "738 -0.0548 -0.03872 -0.03872 -0.03872 -0.067166 -0.03872 -0.482154 -0.299537   \n",
       "420 -0.0548 -0.03872 -0.03872 -0.03872 -0.067166 -0.03872  2.074027 -0.299537   \n",
       "\n",
       "            S  \n",
       "620 -1.640307  \n",
       "359 -1.640307  \n",
       "512  0.609642  \n",
       "738  0.609642  \n",
       "420 -1.640307  \n",
       "\n",
       "[5 rows x 1345 columns]"
      ]
     },
     "execution_count": 54,
     "metadata": {},
     "output_type": "execute_result"
    }
   ],
   "source": [
    "X_train.head()"
   ]
  },
  {
   "cell_type": "markdown",
   "metadata": {},
   "source": [
    "## Modeling, Again\n",
    "\n",
    "Now that the data is scaled, let's see if we can fit the model without tweaking any hyperparameters"
   ]
  },
  {
   "cell_type": "code",
   "execution_count": 55,
   "metadata": {},
   "outputs": [
    {
     "data": {
      "text/plain": [
       "LogisticRegression(C=1.0, class_weight=None, dual=False, fit_intercept=True,\n",
       "                   intercept_scaling=1, l1_ratio=None, max_iter=100,\n",
       "                   multi_class='auto', n_jobs=None, penalty='l2',\n",
       "                   random_state=2020, solver='lbfgs', tol=0.0001, verbose=0,\n",
       "                   warm_start=False)"
      ]
     },
     "execution_count": 55,
     "metadata": {},
     "output_type": "execute_result"
    }
   ],
   "source": [
    "logreg_model = LogisticRegression(random_state=2020)\n",
    "logreg_model.fit(X_train, y_train)"
   ]
  },
  {
   "cell_type": "markdown",
   "metadata": {},
   "source": [
    "## Model Evaluation, Again\n",
    "\n",
    "Now that we are able to run a logistic regression with default hyperparameters, let's see how that performs"
   ]
  },
  {
   "cell_type": "code",
   "execution_count": 56,
   "metadata": {},
   "outputs": [
    {
     "data": {
      "image/png": "[encoded data removed]",
      "text/plain": [
       "<Figure size 432x288 with 2 Axes>"
      ]
     },
     "metadata": {
      "needs_background": "light"
     },
     "output_type": "display_data"
    }
   ],
   "source": [
    "fig, ax = plt.subplots()\n",
    "\n",
    "fig.suptitle(\"Logistic Regression with All Features, Scaled\")\n",
    "\n",
    "plot_confusion_matrix(logreg_model, X_train, y_train, ax=ax, cmap=\"plasma\");"
   ]
  },
  {
   "cell_type": "code",
   "execution_count": 57,
   "metadata": {},
   "outputs": [
    {
     "data": {
      "text/plain": [
       "array([0.76681614, 0.78026906, 0.76576577])"
      ]
     },
     "execution_count": 57,
     "metadata": {},
     "output_type": "execute_result"
    }
   ],
   "source": [
    "all_features_cross_val_score = cross_val_score(logreg_model, X_train, y_train, cv=3)\n",
    "all_features_cross_val_score"
   ]
  },
  {
   "cell_type": "markdown",
   "metadata": {},
   "source": [
    "Perfect on the training data, high 70% range on the test data...this might be overfitting"
   ]
  },
  {
   "cell_type": "code",
   "execution_count": 58,
   "metadata": {},
   "outputs": [
    {
     "data": {
      "text/plain": [
       "[('male', -0.7643948972144892),\n",
       " ('female', 0.764394897214489),\n",
       " (3, -0.38422693193447643),\n",
       " ('Cabin_missing', -0.3106443704109745),\n",
       " ('B96 B98', -0.28210405736415356),\n",
       " (1, 0.28200801726585256),\n",
       " ('Allison, Master. Hudson Trevor', 0.27079097245621253),\n",
       " ('1601', 0.242204243328471),\n",
       " ('Asplund, Master. Edvin Rojj Felix', 0.23363908872795028),\n",
       " ('Goldsmith, Master. Frank John William \"Frankie\"', 0.23296410078178317),\n",
       " ('Davies, Master. John Morgan Jr', 0.23058437142549115),\n",
       " ('Fare', 0.22844987001239384),\n",
       " ('Age', -0.22581470391094952),\n",
       " ('Foo, Mr. Choong', 0.22331777223687646),\n",
       " ('Bing, Mr. Lee', 0.21403931451919828),\n",
       " ('Chip, Mr. Chang', 0.2140393145191982),\n",
       " ('Allison, Miss. Helen Loraine', -0.21342729393489526),\n",
       " ('Mallet, Master. Andre', 0.2085563609109029),\n",
       " ('29106', 0.2056675183772136),\n",
       " ('347082', -0.20327783745510944),\n",
       " ('Allison, Mrs. Hudson J C (Bessie Waldo Daniels)', -0.20074651588208078),\n",
       " ('Navratil, Master. Edmond Roger', 0.19647537938215226),\n",
       " ('113760', 0.19140984711508005),\n",
       " ('Thorneycroft, Mrs. Percival (Florence Kate White)', 0.1895525994946325),\n",
       " ('Backstrom, Mrs. Karl Alfred (Maria Mathilda Gustafsson)',\n",
       "  0.18887452475196576),\n",
       " ('Nakid, Mr. Sahid', 0.18307223572165873),\n",
       " ('2653', 0.18251562679909836),\n",
       " ('O\\'Brien, Mrs. Thomas (Johanna \"Hannah\" Godfrey)', 0.182221678912626),\n",
       " ('Hakkarainen, Mrs. Pekka Pietari (Elin Matilda Dolck)', 0.18158679160006927),\n",
       " ('Johannesen-Bratthammer, Mr. Bernt', 0.1808216675846795),\n",
       " ('65306', 0.1808216675846795),\n",
       " ('Dahl, Mr. Karl Edwart', 0.1797363112810958),\n",
       " ('7598', 0.1797363112810958),\n",
       " ('347077', 0.17868621520150965),\n",
       " ('Niskanen, Mr. Juha', 0.1779740946645599),\n",
       " ('STON/O 2. 3101289', 0.1779740946645599),\n",
       " ('Jonsson, Mr. Carl', 0.1759142442260328),\n",
       " ('350417', 0.1759142442260328),\n",
       " ('Jussila, Mr. Eiriik', 0.17590849635772762),\n",
       " ('STON/O 2. 3101286', 0.17590849635772762),\n",
       " ('Stranden, Mr. Juho', 0.17561360557474057),\n",
       " ('STON/O 2. 3101288', 0.17561360557474057),\n",
       " ('McCoy, Mr. Bernard', 0.17530347291086648),\n",
       " ('367226', 0.17530347291086648),\n",
       " ('Persson, Mr. Ernst Ulrik', 0.17527460903426034),\n",
       " ('347083', 0.17527460903426034),\n",
       " ('2666', 0.17518720915323635),\n",
       " ('Sheerlinck, Mr. Jan Baptist', 0.17489617445466069),\n",
       " ('345779', 0.17489617445466069),\n",
       " ('Hedman, Mr. Oskar Arvid', 0.1745115972254716)]"
      ]
     },
     "execution_count": 58,
     "metadata": {},
     "output_type": "execute_result"
    }
   ],
   "source": [
    "sorted(list(zip(X_train.columns, logreg_model.coef_[0])), key=lambda x: abs(x[1]), reverse=True)[:50]"
   ]
  },
  {
   "cell_type": "code",
   "execution_count": 76,
   "metadata": {},
   "outputs": [
    {
     "data": {
      "text/plain": [
       "[('SibSp', 0.0),\n",
       " ('Parch', 0.0),\n",
       " ('Fare', 0.0),\n",
       " ('Pclass_missing', 0.0),\n",
       " ('Name_missing', 0.0),\n",
       " ('Sex_missing', 0.0),\n",
       " ('Age_missing', 0.0),\n",
       " ('SibSp_missing', 0.0),\n",
       " ('Parch_missing', 0.0),\n",
       " ('Ticket_missing', 0.0),\n",
       " ('Fare_missing', 0.0),\n",
       " ('Embarked_missing', 0.0),\n",
       " (2, 0.0),\n",
       " ('Abbing, Mr. Anthony', 0.0),\n",
       " ('Abbott, Mr. Rossmore Edward', 0.0),\n",
       " ('Abelson, Mr. Samuel', 0.0),\n",
       " ('Abelson, Mrs. Samuel (Hannah Wizosky)', 0.0),\n",
       " ('Adahl, Mr. Mauritz Nils Martin', 0.0),\n",
       " ('Aks, Mrs. Sam (Leah Rosen)', 0.0),\n",
       " ('Alexander, Mr. William', 0.0),\n",
       " ('Alhomaki, Mr. Ilmari Rudolf', 0.0),\n",
       " ('Ali, Mr. Ahmed', 0.0),\n",
       " ('Ali, Mr. William', 0.0),\n",
       " ('Allen, Miss. Elisabeth Walton', 0.0),\n",
       " ('Allen, Mr. William Henry', 0.0),\n",
       " ('Allum, Mr. Owen George', 0.0),\n",
       " ('Andersen-Jensen, Miss. Carla Christine Nielsine', 0.0),\n",
       " ('Andersson, Master. Sigvard Harald Elias', 0.0),\n",
       " ('Andersson, Miss. Ebba Iris Alfrida', 0.0),\n",
       " ('Andersson, Miss. Ellis Anna Maria', 0.0),\n",
       " ('Andersson, Miss. Erna Alexandra', 0.0),\n",
       " ('Andersson, Miss. Sigrid Elisabeth', 0.0),\n",
       " ('Andersson, Mr. Anders Johan', 0.0),\n",
       " ('Andersson, Mrs. Anders Johan (Alfrida Konstantia Brogren)', 0.0),\n",
       " ('Andreasson, Mr. Paul Edvin', 0.0),\n",
       " ('Andrew, Mr. Edgardo Samuel', 0.0),\n",
       " ('Andrews, Miss. Kornelia Theodosia', 0.0),\n",
       " ('Andrews, Mr. Thomas Jr', 0.0),\n",
       " ('Angle, Mrs. William A (Florence \"Mary\" Agnes Hughes)', 0.0),\n",
       " ('Appleton, Mrs. Edward Dale (Charlotte Lamson)', 0.0),\n",
       " ('Arnold-Franchi, Mr. Josef', 0.0),\n",
       " ('Artagaveytia, Mr. Ramon', 0.0),\n",
       " ('Asim, Mr. Adola', 0.0),\n",
       " ('Asplund, Master. Clarence Gustaf Hugo', 0.0),\n",
       " ('Asplund, Miss. Lillian Gertrud', 0.0),\n",
       " ('Asplund, Mrs. Carl Oscar (Selma Augusta Emilia Johansson)', 0.0),\n",
       " ('Attalah, Mr. Sleiman', 0.0),\n",
       " ('Augustsson, Mr. Albert', 0.0),\n",
       " ('Ayoub, Miss. Banoura', 0.0),\n",
       " ('Backstrom, Mr. Karl Alfred', 0.0)]"
      ]
     },
     "execution_count": 76,
     "metadata": {},
     "output_type": "execute_result"
    }
   ],
   "source": [
    "sorted(list(zip(X_train.columns, logreg_model.coef_[0])), key=lambda x: abs(x[1]), reverse=False)[:50]"
   ]
  },
  {
   "cell_type": "markdown",
   "metadata": {},
   "source": [
    "## Hyperparameter Tuning\n",
    "\n",
    "Let's try out some different regularization penalties to see if we can improve the test data score a bit"
   ]
  },
  {
   "cell_type": "code",
   "execution_count": 59,
   "metadata": {},
   "outputs": [
    {
     "name": "stdout",
     "output_type": "stream",
     "text": [
      "Old: [0.76681614 0.78026906 0.76576577]\n",
      "New: [0.76233184 0.76681614 0.75675676]\n"
     ]
    }
   ],
   "source": [
    "logreg_model = LogisticRegression(random_state=2020, C=0.1)\n",
    "logreg_model.fit(X_train, y_train)\n",
    "\n",
    "print(\"Old:\", all_features_cross_val_score)\n",
    "print(\"New:\", cross_val_score(logreg_model, X_train, y_train, cv=3))"
   ]
  },
  {
   "cell_type": "markdown",
   "metadata": {},
   "source": [
    "Seems like it doesn't make a difference\n",
    "\n",
    "Try a little less regularization:"
   ]
  },
  {
   "cell_type": "code",
   "execution_count": 60,
   "metadata": {},
   "outputs": [
    {
     "name": "stdout",
     "output_type": "stream",
     "text": [
      "Old: [0.76681614 0.78026906 0.76576577]\n",
      "New: [0.76233184 0.77578475 0.76576577]\n"
     ]
    }
   ],
   "source": [
    "logreg_model = LogisticRegression(random_state=2020, C=0.5)\n",
    "logreg_model.fit(X_train, y_train)\n",
    "\n",
    "print(\"Old:\", all_features_cross_val_score)\n",
    "print(\"New:\", cross_val_score(logreg_model, X_train, y_train, cv=3))"
   ]
  },
  {
   "cell_type": "markdown",
   "metadata": {},
   "source": [
    "Same or worse\n",
    "\n",
    "Try a little more regularization:"
   ]
  },
  {
   "cell_type": "code",
   "execution_count": 61,
   "metadata": {},
   "outputs": [
    {
     "name": "stdout",
     "output_type": "stream",
     "text": [
      "Old: [0.76681614 0.78026906 0.76576577]\n",
      "New: [0.75784753 0.77130045 0.74774775]\n"
     ]
    }
   ],
   "source": [
    "logreg_model = LogisticRegression(random_state=2020, C=0.05)\n",
    "logreg_model.fit(X_train, y_train)\n",
    "\n",
    "print(\"Old:\", all_features_cross_val_score)\n",
    "print(\"New:\", cross_val_score(logreg_model, X_train, y_train, cv=3))"
   ]
  },
  {
   "cell_type": "markdown",
   "metadata": {},
   "source": [
    "Also worse.  It looks like the default C value is pretty optimal for this solver.\n",
    "\n",
    "Let's try some other solvers"
   ]
  },
  {
   "cell_type": "code",
   "execution_count": 62,
   "metadata": {},
   "outputs": [
    {
     "name": "stdout",
     "output_type": "stream",
     "text": [
      "Old: [0.76681614 0.78026906 0.76576577]\n",
      "New: [0.78026906 0.78026906 0.77027027]\n"
     ]
    }
   ],
   "source": [
    "logreg_model = LogisticRegression(random_state=2020, solver=\"liblinear\")\n",
    "logreg_model.fit(X_train, y_train)\n",
    "\n",
    "print(\"Old:\", all_features_cross_val_score)\n",
    "print(\"New:\", cross_val_score(logreg_model, X_train, y_train, cv=3))"
   ]
  },
  {
   "cell_type": "markdown",
   "metadata": {},
   "source": [
    "A little slower, but no major difference in the scores.  Let's try adding some more regularization"
   ]
  },
  {
   "cell_type": "code",
   "execution_count": 63,
   "metadata": {},
   "outputs": [
    {
     "name": "stdout",
     "output_type": "stream",
     "text": [
      "Old: [0.76681614 0.78026906 0.76576577]\n",
      "New: [0.78026906 0.78475336 0.76126126]\n"
     ]
    }
   ],
   "source": [
    "logreg_model = LogisticRegression(random_state=2020, solver=\"liblinear\", C=0.01)\n",
    "logreg_model.fit(X_train, y_train)\n",
    "\n",
    "print(\"Old:\", all_features_cross_val_score)\n",
    "print(\"New:\", cross_val_score(logreg_model, X_train, y_train, cv=3))"
   ]
  },
  {
   "cell_type": "markdown",
   "metadata": {},
   "source": [
    "Getting better.  Try a different type of penalty:"
   ]
  },
  {
   "cell_type": "code",
   "execution_count": 64,
   "metadata": {},
   "outputs": [
    {
     "name": "stdout",
     "output_type": "stream",
     "text": [
      "Old: [0.76681614 0.78026906 0.76576577]\n",
      "New: [0.77130045 0.82511211 0.7972973 ]\n"
     ]
    }
   ],
   "source": [
    "logreg_model = LogisticRegression(random_state=2020, solver=\"liblinear\", penalty=\"l1\")\n",
    "logreg_model.fit(X_train, y_train)\n",
    "\n",
    "print(\"Old:\", all_features_cross_val_score)\n",
    "print(\"New:\", cross_val_score(logreg_model, X_train, y_train, cv=3))"
   ]
  },
  {
   "cell_type": "markdown",
   "metadata": {},
   "source": [
    "Slightly better average here.  Try adding some more regularization with L1 penalty:"
   ]
  },
  {
   "cell_type": "code",
   "execution_count": 65,
   "metadata": {},
   "outputs": [
    {
     "name": "stdout",
     "output_type": "stream",
     "text": [
      "Old: [0.76681614 0.78026906 0.76576577]\n",
      "New: [0.76681614 0.8206278  0.7972973 ]\n"
     ]
    }
   ],
   "source": [
    "logreg_model = LogisticRegression(random_state=2020, solver=\"liblinear\", penalty=\"l1\", C=0.01)\n",
    "logreg_model.fit(X_train, y_train)\n",
    "\n",
    "print(\"Old:\", all_features_cross_val_score)\n",
    "print(\"New:\", cross_val_score(logreg_model, X_train, y_train, cv=3))"
   ]
  },
  {
   "cell_type": "markdown",
   "metadata": {},
   "source": [
    "Still, the default regularization strength seems pretty good.  Double-check the confusion matrix:"
   ]
  },
  {
   "cell_type": "code",
   "execution_count": 66,
   "metadata": {},
   "outputs": [
    {
     "data": {
      "image/png": "[encoded data removed]",
      "text/plain": [
       "<Figure size 432x288 with 2 Axes>"
      ]
     },
     "metadata": {
      "needs_background": "light"
     },
     "output_type": "display_data"
    }
   ],
   "source": [
    "logreg_model = LogisticRegression(random_state=2020, solver=\"liblinear\", penalty=\"l1\")\n",
    "logreg_model.fit(X_train, y_train)\n",
    "\n",
    "fig, ax = plt.subplots()\n",
    "\n",
    "fig.suptitle(\"Logistic Regression with All Features (Scaled, Hyperparameters Tuned)\")\n",
    "\n",
    "plot_confusion_matrix(logreg_model, X_train, y_train, ax=ax, cmap=\"plasma\");"
   ]
  },
  {
   "cell_type": "code",
   "execution_count": 77,
   "metadata": {},
   "outputs": [
    {
     "data": {
      "text/plain": [
       "[('SibSp', 0.0),\n",
       " ('Parch', 0.0),\n",
       " ('Fare', 0.0),\n",
       " ('Pclass_missing', 0.0),\n",
       " ('Name_missing', 0.0),\n",
       " ('Sex_missing', 0.0),\n",
       " ('Age_missing', 0.0),\n",
       " ('SibSp_missing', 0.0),\n",
       " ('Parch_missing', 0.0),\n",
       " ('Ticket_missing', 0.0),\n",
       " ('Fare_missing', 0.0),\n",
       " ('Embarked_missing', 0.0),\n",
       " (2, 0.0),\n",
       " ('Abbing, Mr. Anthony', 0.0),\n",
       " ('Abbott, Mr. Rossmore Edward', 0.0),\n",
       " ('Abelson, Mr. Samuel', 0.0),\n",
       " ('Abelson, Mrs. Samuel (Hannah Wizosky)', 0.0),\n",
       " ('Adahl, Mr. Mauritz Nils Martin', 0.0),\n",
       " ('Aks, Mrs. Sam (Leah Rosen)', 0.0),\n",
       " ('Alexander, Mr. William', 0.0),\n",
       " ('Alhomaki, Mr. Ilmari Rudolf', 0.0),\n",
       " ('Ali, Mr. Ahmed', 0.0),\n",
       " ('Ali, Mr. William', 0.0),\n",
       " ('Allen, Miss. Elisabeth Walton', 0.0),\n",
       " ('Allen, Mr. William Henry', 0.0),\n",
       " ('Allum, Mr. Owen George', 0.0),\n",
       " ('Andersen-Jensen, Miss. Carla Christine Nielsine', 0.0),\n",
       " ('Andersson, Master. Sigvard Harald Elias', 0.0),\n",
       " ('Andersson, Miss. Ebba Iris Alfrida', 0.0),\n",
       " ('Andersson, Miss. Ellis Anna Maria', 0.0),\n",
       " ('Andersson, Miss. Erna Alexandra', 0.0),\n",
       " ('Andersson, Miss. Sigrid Elisabeth', 0.0),\n",
       " ('Andersson, Mr. Anders Johan', 0.0),\n",
       " ('Andersson, Mrs. Anders Johan (Alfrida Konstantia Brogren)', 0.0),\n",
       " ('Andreasson, Mr. Paul Edvin', 0.0),\n",
       " ('Andrew, Mr. Edgardo Samuel', 0.0),\n",
       " ('Andrews, Miss. Kornelia Theodosia', 0.0),\n",
       " ('Andrews, Mr. Thomas Jr', 0.0),\n",
       " ('Angle, Mrs. William A (Florence \"Mary\" Agnes Hughes)', 0.0),\n",
       " ('Appleton, Mrs. Edward Dale (Charlotte Lamson)', 0.0),\n",
       " ('Arnold-Franchi, Mr. Josef', 0.0),\n",
       " ('Artagaveytia, Mr. Ramon', 0.0),\n",
       " ('Asim, Mr. Adola', 0.0),\n",
       " ('Asplund, Master. Clarence Gustaf Hugo', 0.0),\n",
       " ('Asplund, Miss. Lillian Gertrud', 0.0),\n",
       " ('Asplund, Mrs. Carl Oscar (Selma Augusta Emilia Johansson)', 0.0),\n",
       " ('Attalah, Mr. Sleiman', 0.0),\n",
       " ('Augustsson, Mr. Albert', 0.0),\n",
       " ('Ayoub, Miss. Banoura', 0.0),\n",
       " ('Backstrom, Mr. Karl Alfred', 0.0)]"
      ]
     },
     "execution_count": 77,
     "metadata": {},
     "output_type": "execute_result"
    }
   ],
   "source": [
    "sorted(list(zip(X_train.columns, logreg_model.coef_[0])), key=lambda x: abs(x[1]), reverse=False)[:50]"
   ]
  },
  {
   "cell_type": "code",
   "execution_count": 81,
   "metadata": {},
   "outputs": [
    {
     "data": {
      "text/plain": [
       "['Age',\n",
       " 'Cabin_missing',\n",
       " 1,\n",
       " 3,\n",
       " 'Ahlin, Mrs. Johan (Johanna Persdotter Larsson)',\n",
       " 'Allison, Master. Hudson Trevor',\n",
       " 'Allison, Miss. Helen Loraine',\n",
       " 'Allison, Mrs. Hudson J C (Bessie Waldo Daniels)',\n",
       " 'Arnold-Franchi, Mrs. Josef (Josefine Franchi)',\n",
       " 'Asplund, Master. Edvin Rojj Felix',\n",
       " 'Attalah, Miss. Malake',\n",
       " 'Barah, Mr. Hanna Assi',\n",
       " 'Barkworth, Mr. Algernon Henry Wilson',\n",
       " 'Baxter, Mr. Quigg Edmond',\n",
       " 'Beckwith, Mr. Richard Leonard',\n",
       " 'Beesley, Mr. Lawrence',\n",
       " 'Behr, Mr. Karl Howell',\n",
       " 'Bing, Mr. Lee',\n",
       " 'Bishop, Mr. Dickinson H',\n",
       " 'Blank, Mr. Henry',\n",
       " 'Boulos, Miss. Nourelain',\n",
       " 'Bourke, Miss. Mary',\n",
       " 'Calderhead, Mr. Edward Pennington',\n",
       " 'Caldwell, Master. Alden Gates',\n",
       " 'Canavan, Miss. Mary',\n",
       " 'Caram, Mrs. Joseph (Maria Elias)',\n",
       " 'Cardeza, Mr. Thomas Drake Martinez',\n",
       " 'Carter, Mrs. Ernest Courtenay (Lilian Hughes)',\n",
       " 'Chambers, Mr. Norman Campbell',\n",
       " 'Chip, Mr. Chang',\n",
       " 'Coutts, Master. William Loch \"William\"',\n",
       " 'Dahl, Mr. Karl Edwart',\n",
       " 'Dahlberg, Miss. Gerda Ulrika',\n",
       " 'Daly, Mr. Eugene Patrick',\n",
       " 'Daly, Mr. Peter Denis ',\n",
       " 'Danbom, Mrs. Ernst Gilbert (Anna Sigrid Maria Brogren)',\n",
       " 'Daniel, Mr. Robert Williams',\n",
       " 'Davies, Master. John Morgan Jr',\n",
       " 'Dick, Mr. Albert Adrian',\n",
       " 'Dodge, Master. Washington',\n",
       " 'Dorking, Mr. Edward Arthur',\n",
       " 'Duff Gordon, Sir. Cosmo Edmund (\"Mr Morgan\")',\n",
       " 'Foo, Mr. Choong',\n",
       " 'Ford, Miss. Robina Maggie \"Ruby\"',\n",
       " 'Frauenthal, Dr. Henry William',\n",
       " 'Frolicher-Stehli, Mr. Maxmillian',\n",
       " 'Funk, Miss. Annie Clemmer',\n",
       " 'Goldenberg, Mr. Samuel L',\n",
       " 'Goldsmith, Master. Frank John William \"Frankie\"',\n",
       " 'Goodwin, Miss. Lillian Amy',\n",
       " 'Goodwin, Mrs. Frederick (Augusta Tyler)',\n",
       " 'Greenfield, Mr. William Bertram',\n",
       " 'Haas, Miss. Aloisia',\n",
       " 'Hamalainen, Master. Viljo',\n",
       " 'Harder, Mr. George Achilles',\n",
       " 'Harknett, Miss. Alice Phoebe',\n",
       " 'Harper, Mr. Henry Sleeper',\n",
       " 'Harris, Mr. George',\n",
       " 'Hawksford, Mr. Walter James',\n",
       " 'Hedman, Mr. Oskar Arvid',\n",
       " 'Hegarty, Miss. Hanora \"Nora\"',\n",
       " 'Heininen, Miss. Wendla Maria',\n",
       " 'Henry, Miss. Delia',\n",
       " 'Homer, Mr. Harry (\"Mr E Haven\")',\n",
       " 'Hoyt, Mr. Frederick Maxfield',\n",
       " 'Ilmakangas, Miss. Pieta Sofia',\n",
       " 'Isham, Miss. Ann Elizabeth',\n",
       " 'Jansson, Mr. Carl Olof',\n",
       " 'Johannesen-Bratthammer, Mr. Bernt',\n",
       " 'Johnston, Miss. Catherine Helen \"Carrie\"',\n",
       " 'Jonsson, Mr. Carl',\n",
       " 'Jussila, Miss. Katriina',\n",
       " 'Jussila, Miss. Mari Aina',\n",
       " 'Jussila, Mr. Eiriik',\n",
       " 'Lahtinen, Mrs. William (Anna Sylfven)',\n",
       " 'Laitinen, Miss. Kristina Sofia',\n",
       " 'Lefebre, Miss. Ida',\n",
       " 'Lindahl, Miss. Agda Thorilda Viktoria',\n",
       " 'Lindblom, Miss. Augusta Charlotta',\n",
       " 'Lindqvist, Mr. Eino William',\n",
       " 'Ling, Mr. Lee',\n",
       " 'Lobb, Mrs. William Arthur (Cordelia K Stanlick)',\n",
       " 'Lulic, Mr. Nikola',\n",
       " 'Mallet, Master. Andre',\n",
       " 'Marechal, Mr. Pierre',\n",
       " 'McCormack, Mr. Thomas Joseph',\n",
       " 'McCoy, Mr. Bernard',\n",
       " 'McGough, Mr. James Robert',\n",
       " 'Meanwell, Miss. (Marion Ogden)',\n",
       " 'Moor, Master. Meier',\n",
       " 'Moubarek, Master. Gerios',\n",
       " 'Nakid, Mr. Sahid',\n",
       " 'Navratil, Master. Edmond Roger',\n",
       " 'Nicola-Yarred, Master. Elias',\n",
       " 'Niskanen, Mr. Juha',\n",
       " \"O'Sullivan, Miss. Bridget Mary\",\n",
       " 'Olsson, Miss. Elina',\n",
       " 'Padro y Manent, Mr. Julian',\n",
       " 'Penasco y Castellana, Mr. Victor de Satode',\n",
       " 'Persson, Mr. Ernst Ulrik',\n",
       " 'Peters, Miss. Katie',\n",
       " 'Petranec, Miss. Matilda',\n",
       " 'Pickard, Mr. Berk (Berk Trembisky)',\n",
       " 'Rice, Mrs. William (Margaret Norton)',\n",
       " 'Robins, Mrs. Alexander A (Grace Charity Laury)',\n",
       " 'Romaine, Mr. Charles Hallace (\"Mr C Rolmane\")',\n",
       " 'Rosblom, Mrs. Viktor (Helena Wilhelmina)',\n",
       " 'Sage, Miss. Dorothy Edith \"Dolly\"',\n",
       " 'Sage, Miss. Stella Anna',\n",
       " 'Seward, Mr. Frederic Kimber',\n",
       " 'Sheerlinck, Mr. Jan Baptist',\n",
       " 'Simonius-Blumer, Col. Oberst Alfons',\n",
       " 'Skoog, Miss. Mabel',\n",
       " 'Sloper, Mr. William Thompson',\n",
       " 'Stahelin-Maeglin, Dr. Max',\n",
       " 'Strandberg, Miss. Ida Sofia',\n",
       " 'Stranden, Mr. Juho',\n",
       " 'Strom, Miss. Telma Matilda',\n",
       " 'Sunderland, Mr. Victor Francis',\n",
       " 'Taylor, Mr. Elmer Zebley',\n",
       " 'Thayer, Mr. John Borland Jr',\n",
       " 'Turpin, Mrs. William John Robert (Dorothy Ann Wonnacott)',\n",
       " 'Van Impe, Miss. Catharina',\n",
       " 'Van Impe, Mrs. Jean Baptiste (Rosalie Paula Govaert)',\n",
       " 'Vander Planke, Mrs. Julius (Emelia Maria Vandemoortele)',\n",
       " 'Vestrom, Miss. Hulda Amanda Adolfina',\n",
       " 'Wilhelms, Mr. Charles',\n",
       " 'Williams, Mr. Charles Eugene',\n",
       " 'female',\n",
       " 'male',\n",
       " '111369',\n",
       " '111426',\n",
       " '111428',\n",
       " '112277',\n",
       " '113055',\n",
       " '113760',\n",
       " '113788',\n",
       " '113794',\n",
       " '113804',\n",
       " '11765',\n",
       " '11774',\n",
       " '11967',\n",
       " '13213',\n",
       " '13214',\n",
       " '13567',\n",
       " '1601',\n",
       " '16988',\n",
       " '17474',\n",
       " '19996',\n",
       " '237671',\n",
       " '244270',\n",
       " '244373',\n",
       " '248698',\n",
       " '250651',\n",
       " '2651',\n",
       " '2653',\n",
       " '2661',\n",
       " '2663',\n",
       " '2678',\n",
       " '2689',\n",
       " '2691',\n",
       " '27042',\n",
       " '29106',\n",
       " '315098',\n",
       " '330909',\n",
       " '330935',\n",
       " '33638',\n",
       " '345763',\n",
       " '345773',\n",
       " '345779',\n",
       " '347054',\n",
       " '347071',\n",
       " '347073',\n",
       " '347077',\n",
       " '347080',\n",
       " '347082',\n",
       " '347083',\n",
       " '347089',\n",
       " '349236',\n",
       " '349245',\n",
       " '349909',\n",
       " '350034',\n",
       " '350406',\n",
       " '350407',\n",
       " '350417',\n",
       " '35281',\n",
       " '363291',\n",
       " '364516',\n",
       " '364846',\n",
       " '364848',\n",
       " '365226',\n",
       " '367226',\n",
       " '367228',\n",
       " '382649',\n",
       " '382651',\n",
       " '4135',\n",
       " '4136',\n",
       " '4137',\n",
       " '65306',\n",
       " '7546',\n",
       " '7552',\n",
       " '7553',\n",
       " '7598',\n",
       " 'A/5. 10482',\n",
       " 'A/5. 3337',\n",
       " 'C.A. 37671',\n",
       " 'CA 2144',\n",
       " 'CA. 2343',\n",
       " 'PC 17473',\n",
       " 'PC 17476',\n",
       " 'PC 17593',\n",
       " 'PC 17595',\n",
       " 'PC 17759',\n",
       " 'S.W./PP 752',\n",
       " 'SC/PARIS 2146',\n",
       " 'SOTON/O.Q. 392078',\n",
       " 'SOTON/O.Q. 392087',\n",
       " 'SOTON/OQ 392089',\n",
       " 'STON/O 2. 3101285',\n",
       " 'STON/O 2. 3101286',\n",
       " 'STON/O 2. 3101288',\n",
       " 'STON/O 2. 3101289',\n",
       " 'STON/O2. 3101271',\n",
       " 'STON/O2. 3101290',\n",
       " 'W./C. 6608',\n",
       " 'W./C. 6609',\n",
       " 'A20',\n",
       " 'A23',\n",
       " 'A26',\n",
       " 'A31',\n",
       " 'A34',\n",
       " 'A6',\n",
       " 'B20',\n",
       " 'B41',\n",
       " 'B49',\n",
       " 'B50',\n",
       " 'C124',\n",
       " 'C126',\n",
       " 'C148',\n",
       " 'C47',\n",
       " 'C49',\n",
       " 'C52',\n",
       " 'C70',\n",
       " 'D10 D12',\n",
       " 'D26',\n",
       " 'D45',\n",
       " 'D56',\n",
       " 'E10',\n",
       " 'E17',\n",
       " 'E24',\n",
       " 'E25',\n",
       " 'E50',\n",
       " 'C',\n",
       " 'S']"
      ]
     },
     "execution_count": 81,
     "metadata": {},
     "output_type": "execute_result"
    }
   ],
   "source": [
    "zero_coefs = []\n",
    "for index, coef in enumerate(logreg_model.coef_[0]):\n",
    "    if coef == 0:\n",
    "        zero_coefs.append(X_train.columns[index])\n",
    "zero_coefs\n",
    "\n",
    "non_zero_coefs = []\n",
    "for index, coef in enumerate(logreg_model.coef_[0]):\n",
    "    if coef != 0:\n",
    "        non_zero_coefs.append(X_train.columns[index])\n",
    "non_zero_coefs"
   ]
  },
  {
   "cell_type": "markdown",
   "metadata": {},
   "source": [
    "Probably still overfitting, but let's call this our final model!"
   ]
  },
  {
   "cell_type": "markdown",
   "metadata": {},
   "source": [
    "## Final Model Evaluation\n",
    "\n",
    "Now that we have a final model, run X_test through all of the preprocessing steps so we can evaluate the model's performance"
   ]
  },
  {
   "cell_type": "code",
   "execution_count": 67,
   "metadata": {},
   "outputs": [],
   "source": [
    "X_test_no_transformations = X_test.copy()"
   ]
  },
  {
   "cell_type": "code",
   "execution_count": 68,
   "metadata": {},
   "outputs": [],
   "source": [
    "# add missing indicators\n",
    "X_test = add_missing_indicator_columns(X_test, indicator)"
   ]
  },
  {
   "cell_type": "code",
   "execution_count": 69,
   "metadata": {},
   "outputs": [],
   "source": [
    "# separate out values for imputation\n",
    "X_test_numeric = X_test[numeric_feature_names]\n",
    "X_test_categorical = X_test[categorical_feature_names]"
   ]
  },
  {
   "cell_type": "code",
   "execution_count": 70,
   "metadata": {},
   "outputs": [],
   "source": [
    "# impute missing values\n",
    "X_test_numeric = impute_missing_values(X_test_numeric, numeric_imputer)\n",
    "X_test_categorical = impute_missing_values(X_test_categorical, categorical_imputer)\n",
    "X_test_imputed = pd.concat([X_test_numeric, X_test_categorical], axis=1)\n",
    "X_test = X_test.drop(numeric_feature_names + categorical_feature_names, axis=1)\n",
    "X_test = pd.concat([X_test_imputed, X_test], axis=1)"
   ]
  },
  {
   "cell_type": "code",
   "execution_count": 71,
   "metadata": {},
   "outputs": [],
   "source": [
    "# one-hot encode categorical data\n",
    "for categorical_feature in categorical_feature_names:\n",
    "    X_test = encode_and_concat_feature(X_test, categorical_feature, encoders[categorical_feature])"
   ]
  },
  {
   "cell_type": "code",
   "execution_count": 72,
   "metadata": {},
   "outputs": [],
   "source": [
    "# scale values\n",
    "X_test = scale_values(X_test, scaler)"
   ]
  },
  {
   "cell_type": "markdown",
   "metadata": {},
   "source": [
    "Create a model with the relevant hyperparameters, fit, and score"
   ]
  },
  {
   "cell_type": "code",
   "execution_count": 73,
   "metadata": {},
   "outputs": [
    {
     "data": {
      "text/plain": [
       "0.7847533632286996"
      ]
     },
     "execution_count": 73,
     "metadata": {},
     "output_type": "execute_result"
    }
   ],
   "source": [
    "final_model = LogisticRegression(random_state=2020, solver=\"liblinear\", penalty=\"l1\")\n",
    "final_model.fit(X_train, y_train)\n",
    "\n",
    "final_model.score(X_test, y_test)"
   ]
  },
  {
   "cell_type": "code",
   "execution_count": 74,
   "metadata": {},
   "outputs": [
    {
     "data": {
      "text/html": [
       "<div>\n",
       "<style scoped>\n",
       "    .dataframe tbody tr th:only-of-type {\n",
       "        vertical-align: middle;\n",
       "    }\n",
       "\n",
       "    .dataframe tbody tr th {\n",
       "        vertical-align: top;\n",
       "    }\n",
       "\n",
       "    .dataframe thead th {\n",
       "        text-align: right;\n",
       "    }\n",
       "</style>\n",
       "<table border=\"1\" class=\"dataframe\">\n",
       "  <thead>\n",
       "    <tr style=\"text-align: right;\">\n",
       "      <th></th>\n",
       "      <th>Mean Accuracy</th>\n",
       "    </tr>\n",
       "  </thead>\n",
       "  <tbody>\n",
       "    <tr>\n",
       "      <th>Dummy Model</th>\n",
       "      <td>0.591928</td>\n",
       "    </tr>\n",
       "    <tr>\n",
       "      <th>Simple Linear Regression Model</th>\n",
       "      <td>0.623318</td>\n",
       "    </tr>\n",
       "    <tr>\n",
       "      <th>Final Model</th>\n",
       "      <td>0.784753</td>\n",
       "    </tr>\n",
       "  </tbody>\n",
       "</table>\n",
       "</div>"
      ],
      "text/plain": [
       "                                Mean Accuracy\n",
       "Dummy Model                          0.591928\n",
       "Simple Linear Regression Model       0.623318\n",
       "Final Model                          0.784753"
      ]
     },
     "execution_count": 74,
     "metadata": {},
     "output_type": "execute_result"
    }
   ],
   "source": [
    "final_scores_dict = {\n",
    "    \"Mean Accuracy\": [\n",
    "        dummy_model.score(X_test, y_test), \n",
    "        simple_logreg_model.score(X_test_no_transformations[[\"SibSp\", \"Parch\", \"Fare\"]], y_test),\n",
    "        final_model.score(X_test, y_test)\n",
    "    ]\n",
    "}\n",
    "final_scores_df = pd.DataFrame(final_scores_dict, index=[\"Dummy Model\", \"Simple Linear Regression Model\", \"Final Model\"])\n",
    "final_scores_df"
   ]
  },
  {
   "cell_type": "markdown",
   "metadata": {},
   "source": [
    "Final comparison of confusion matrices"
   ]
  },
  {
   "cell_type": "code",
   "execution_count": 75,
   "metadata": {},
   "outputs": [
    {
     "data": {
      "image/png": "[encoded data removed]",
      "text/plain": [
       "<Figure size 1080x432 with 6 Axes>"
      ]
     },
     "metadata": {
      "needs_background": "light"
     },
     "output_type": "display_data"
    }
   ],
   "source": [
    "fig, axes = plt.subplots(nrows=1, ncols=3, figsize=(15, 6), sharey=True)\n",
    "\n",
    "fig.suptitle(\"Confusion Matrix Comparison\")\n",
    "\n",
    "axes[0].set_title(\"Dummy Model\")\n",
    "axes[1].set_title(\"Simple Model\")\n",
    "axes[2].set_title(\"Final Tuned Model\")\n",
    "\n",
    "plot_confusion_matrix(dummy_model, X_test, y_test, ax=axes[0], cmap=\"plasma\")\n",
    "plot_confusion_matrix(simple_logreg_model, X_test_no_transformations[[\"SibSp\", \"Parch\", \"Fare\"]], y_test, ax=axes[1], cmap=\"plasma\")\n",
    "plot_confusion_matrix(final_model, X_test, y_test, ax=axes[2], cmap=\"plasma\");"
   ]
  },
  {
   "cell_type": "code",
   "execution_count": null,
   "metadata": {},
   "outputs": [],
   "source": []
  }
 ],
 "metadata": {
  "kernelspec": {
   "display_name": "Python 3",
   "language": "python",
   "name": "python3"
  },
  "language_info": {
   "codemirror_mode": {
    "name": "ipython",
    "version": 3
   },
   "file_extension": ".py",
   "mimetype": "text/x-python",
   "name": "python",
   "nbconvert_exporter": "python",
   "pygments_lexer": "ipython3",
   "version": "3.7.3"
  }
 },
 "nbformat": 4,
 "nbformat_minor": 4
}
